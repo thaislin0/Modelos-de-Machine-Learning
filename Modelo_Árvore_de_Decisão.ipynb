{
  "nbformat": 4,
  "nbformat_minor": 0,
  "metadata": {
    "colab": {
      "name": "Modelo Árvore de Decisão.ipynb",
      "provenance": [],
      "collapsed_sections": [],
      "authorship_tag": "ABX9TyNhVr+sOD/fFo/gcSGC2kNR",
      "include_colab_link": true
    },
    "kernelspec": {
      "name": "python3",
      "display_name": "Python 3"
    },
    "language_info": {
      "name": "python"
    }
  },
  "cells": [
    {
      "cell_type": "markdown",
      "metadata": {
        "id": "view-in-github",
        "colab_type": "text"
      },
      "source": [
        "<a href=\"https://colab.research.google.com/github/thaislin0/Modelos-de-Machine-Learning/blob/main/Modelo_%C3%81rvore_de_Decis%C3%A3o.ipynb\" target=\"_parent\"><img src=\"https://colab.research.google.com/assets/colab-badge.svg\" alt=\"Open In Colab\"/></a>"
      ]
    },
    {
      "cell_type": "markdown",
      "metadata": {
        "id": "2X9Efi_828Jd"
      },
      "source": [
        "# Modelo Árvore de Decisão\n",
        "Objetivo da análise: dado uma base de funcionários de uma empresa, com informações sobre: tempo que está na empresa, em qual departamento trabalha, qual o nível e qual linguagem de programação utiliza, o método Árvore de Decisão tentará prever qual a linguagem de programação que um novo funcionário (fora da base) provavelmente irá programar."
      ]
    },
    {
      "cell_type": "code",
      "metadata": {
        "id": "28fQUnqZHwL5"
      },
      "source": [
        "# Importação da biblioteca pandas com o apelido pd \n",
        "import pandas as pd"
      ],
      "execution_count": 1,
      "outputs": []
    },
    {
      "cell_type": "code",
      "metadata": {
        "id": "021wlO7HIDwl"
      },
      "source": [
        "# Criação de uma variável com a função de leitura de excel e o caminho do arquivo\n",
        "base = pd.read_excel('/content/funcionarios.xlsx')"
      ],
      "execution_count": 3,
      "outputs": []
    },
    {
      "cell_type": "code",
      "metadata": {
        "colab": {
          "base_uri": "https://localhost:8080/",
          "height": 204
        },
        "id": "68m5wK9cIO0M",
        "outputId": "5e0f9039-e38c-43f0-a2c6-9ca76f12902c"
      },
      "source": [
        "# Verificação das cinco primeiras linhas da base. A função head() pode ser utilizada com qualquer número que desejar, sendo que 5 é o padrão\n",
        "base.head()"
      ],
      "execution_count": 4,
      "outputs": [
        {
          "output_type": "execute_result",
          "data": {
            "text/html": [
              "<div>\n",
              "<style scoped>\n",
              "    .dataframe tbody tr th:only-of-type {\n",
              "        vertical-align: middle;\n",
              "    }\n",
              "\n",
              "    .dataframe tbody tr th {\n",
              "        vertical-align: top;\n",
              "    }\n",
              "\n",
              "    .dataframe thead th {\n",
              "        text-align: right;\n",
              "    }\n",
              "</style>\n",
              "<table border=\"1\" class=\"dataframe\">\n",
              "  <thead>\n",
              "    <tr style=\"text-align: right;\">\n",
              "      <th></th>\n",
              "      <th>Unnamed: 0</th>\n",
              "      <th>tempo (anos)</th>\n",
              "      <th>departamento_ciencia de dados</th>\n",
              "      <th>departamento_programacao</th>\n",
              "      <th>departamento_web</th>\n",
              "      <th>nivel_pleno</th>\n",
              "      <th>nivel_senior</th>\n",
              "      <th>linguagem</th>\n",
              "    </tr>\n",
              "  </thead>\n",
              "  <tbody>\n",
              "    <tr>\n",
              "      <th>0</th>\n",
              "      <td>0</td>\n",
              "      <td>1</td>\n",
              "      <td>0</td>\n",
              "      <td>0</td>\n",
              "      <td>0</td>\n",
              "      <td>0</td>\n",
              "      <td>0</td>\n",
              "      <td>R</td>\n",
              "    </tr>\n",
              "    <tr>\n",
              "      <th>1</th>\n",
              "      <td>1</td>\n",
              "      <td>6</td>\n",
              "      <td>0</td>\n",
              "      <td>0</td>\n",
              "      <td>1</td>\n",
              "      <td>0</td>\n",
              "      <td>1</td>\n",
              "      <td>Rubi</td>\n",
              "    </tr>\n",
              "    <tr>\n",
              "      <th>2</th>\n",
              "      <td>2</td>\n",
              "      <td>3</td>\n",
              "      <td>1</td>\n",
              "      <td>0</td>\n",
              "      <td>0</td>\n",
              "      <td>1</td>\n",
              "      <td>0</td>\n",
              "      <td>Python</td>\n",
              "    </tr>\n",
              "    <tr>\n",
              "      <th>3</th>\n",
              "      <td>3</td>\n",
              "      <td>2</td>\n",
              "      <td>0</td>\n",
              "      <td>0</td>\n",
              "      <td>1</td>\n",
              "      <td>0</td>\n",
              "      <td>0</td>\n",
              "      <td>Java</td>\n",
              "    </tr>\n",
              "    <tr>\n",
              "      <th>4</th>\n",
              "      <td>4</td>\n",
              "      <td>4</td>\n",
              "      <td>0</td>\n",
              "      <td>1</td>\n",
              "      <td>0</td>\n",
              "      <td>1</td>\n",
              "      <td>0</td>\n",
              "      <td>Java</td>\n",
              "    </tr>\n",
              "  </tbody>\n",
              "</table>\n",
              "</div>"
            ],
            "text/plain": [
              "   Unnamed: 0  tempo (anos)  ...  nivel_senior  linguagem\n",
              "0           0             1  ...             0          R\n",
              "1           1             6  ...             1       Rubi\n",
              "2           2             3  ...             0     Python\n",
              "3           3             2  ...             0       Java\n",
              "4           4             4  ...             0       Java\n",
              "\n",
              "[5 rows x 8 columns]"
            ]
          },
          "metadata": {
            "tags": []
          },
          "execution_count": 4
        }
      ]
    },
    {
      "cell_type": "code",
      "metadata": {
        "id": "WMYAWILtIP8u"
      },
      "source": [
        "# Remoção da coluna 'Unnamed: 0' pois apresentava dados desnecessários\n",
        "del base['Unnamed: 0']"
      ],
      "execution_count": 5,
      "outputs": []
    },
    {
      "cell_type": "code",
      "metadata": {
        "colab": {
          "base_uri": "https://localhost:8080/",
          "height": 359
        },
        "id": "k3MmALdmISai",
        "outputId": "a9109d7e-cabd-4f8f-db69-2209472152c3"
      },
      "source": [
        "# Visualização completa dos dados\n",
        "base"
      ],
      "execution_count": 6,
      "outputs": [
        {
          "output_type": "execute_result",
          "data": {
            "text/html": [
              "<div>\n",
              "<style scoped>\n",
              "    .dataframe tbody tr th:only-of-type {\n",
              "        vertical-align: middle;\n",
              "    }\n",
              "\n",
              "    .dataframe tbody tr th {\n",
              "        vertical-align: top;\n",
              "    }\n",
              "\n",
              "    .dataframe thead th {\n",
              "        text-align: right;\n",
              "    }\n",
              "</style>\n",
              "<table border=\"1\" class=\"dataframe\">\n",
              "  <thead>\n",
              "    <tr style=\"text-align: right;\">\n",
              "      <th></th>\n",
              "      <th>tempo (anos)</th>\n",
              "      <th>departamento_ciencia de dados</th>\n",
              "      <th>departamento_programacao</th>\n",
              "      <th>departamento_web</th>\n",
              "      <th>nivel_pleno</th>\n",
              "      <th>nivel_senior</th>\n",
              "      <th>linguagem</th>\n",
              "    </tr>\n",
              "  </thead>\n",
              "  <tbody>\n",
              "    <tr>\n",
              "      <th>0</th>\n",
              "      <td>1</td>\n",
              "      <td>0</td>\n",
              "      <td>0</td>\n",
              "      <td>0</td>\n",
              "      <td>0</td>\n",
              "      <td>0</td>\n",
              "      <td>R</td>\n",
              "    </tr>\n",
              "    <tr>\n",
              "      <th>1</th>\n",
              "      <td>6</td>\n",
              "      <td>0</td>\n",
              "      <td>0</td>\n",
              "      <td>1</td>\n",
              "      <td>0</td>\n",
              "      <td>1</td>\n",
              "      <td>Rubi</td>\n",
              "    </tr>\n",
              "    <tr>\n",
              "      <th>2</th>\n",
              "      <td>3</td>\n",
              "      <td>1</td>\n",
              "      <td>0</td>\n",
              "      <td>0</td>\n",
              "      <td>1</td>\n",
              "      <td>0</td>\n",
              "      <td>Python</td>\n",
              "    </tr>\n",
              "    <tr>\n",
              "      <th>3</th>\n",
              "      <td>2</td>\n",
              "      <td>0</td>\n",
              "      <td>0</td>\n",
              "      <td>1</td>\n",
              "      <td>0</td>\n",
              "      <td>0</td>\n",
              "      <td>Java</td>\n",
              "    </tr>\n",
              "    <tr>\n",
              "      <th>4</th>\n",
              "      <td>4</td>\n",
              "      <td>0</td>\n",
              "      <td>1</td>\n",
              "      <td>0</td>\n",
              "      <td>1</td>\n",
              "      <td>0</td>\n",
              "      <td>Java</td>\n",
              "    </tr>\n",
              "    <tr>\n",
              "      <th>5</th>\n",
              "      <td>2</td>\n",
              "      <td>0</td>\n",
              "      <td>0</td>\n",
              "      <td>1</td>\n",
              "      <td>1</td>\n",
              "      <td>0</td>\n",
              "      <td>PHP</td>\n",
              "    </tr>\n",
              "    <tr>\n",
              "      <th>6</th>\n",
              "      <td>3</td>\n",
              "      <td>0</td>\n",
              "      <td>0</td>\n",
              "      <td>0</td>\n",
              "      <td>1</td>\n",
              "      <td>0</td>\n",
              "      <td>Python</td>\n",
              "    </tr>\n",
              "    <tr>\n",
              "      <th>7</th>\n",
              "      <td>2</td>\n",
              "      <td>1</td>\n",
              "      <td>0</td>\n",
              "      <td>0</td>\n",
              "      <td>1</td>\n",
              "      <td>0</td>\n",
              "      <td>Python</td>\n",
              "    </tr>\n",
              "    <tr>\n",
              "      <th>8</th>\n",
              "      <td>10</td>\n",
              "      <td>0</td>\n",
              "      <td>0</td>\n",
              "      <td>1</td>\n",
              "      <td>0</td>\n",
              "      <td>1</td>\n",
              "      <td>PHP</td>\n",
              "    </tr>\n",
              "    <tr>\n",
              "      <th>9</th>\n",
              "      <td>5</td>\n",
              "      <td>0</td>\n",
              "      <td>1</td>\n",
              "      <td>0</td>\n",
              "      <td>1</td>\n",
              "      <td>0</td>\n",
              "      <td>C#</td>\n",
              "    </tr>\n",
              "  </tbody>\n",
              "</table>\n",
              "</div>"
            ],
            "text/plain": [
              "   tempo (anos)  departamento_ciencia de dados  ...  nivel_senior  linguagem\n",
              "0             1                              0  ...             0          R\n",
              "1             6                              0  ...             1       Rubi\n",
              "2             3                              1  ...             0     Python\n",
              "3             2                              0  ...             0       Java\n",
              "4             4                              0  ...             0       Java\n",
              "5             2                              0  ...             0        PHP\n",
              "6             3                              0  ...             0     Python\n",
              "7             2                              1  ...             0     Python\n",
              "8            10                              0  ...             1        PHP\n",
              "9             5                              0  ...             0         C#\n",
              "\n",
              "[10 rows x 7 columns]"
            ]
          },
          "metadata": {
            "tags": []
          },
          "execution_count": 6
        }
      ]
    },
    {
      "cell_type": "code",
      "metadata": {
        "id": "HtrEczCpITKC"
      },
      "source": [
        "# x: seleção de todas as linhas e colunas, menos a última, pois ela é a coluna que nosso modelo irá tentar prever\n",
        "#y: selecção de todas as linhas, porém apenas a última coluna, pois ela servirá como treinamento para o modelo\n",
        "x = base.iloc[:, :-1]\n",
        "y = base.iloc[:, -1]"
      ],
      "execution_count": 7,
      "outputs": []
    },
    {
      "cell_type": "code",
      "metadata": {
        "colab": {
          "base_uri": "https://localhost:8080/",
          "height": 359
        },
        "id": "yXKe9180Ijc7",
        "outputId": "a071d8ab-4377-44bb-f96a-59dcfc0bc266"
      },
      "source": [
        "# Verificação do x sem a última coluna\n",
        "x"
      ],
      "execution_count": 8,
      "outputs": [
        {
          "output_type": "execute_result",
          "data": {
            "text/html": [
              "<div>\n",
              "<style scoped>\n",
              "    .dataframe tbody tr th:only-of-type {\n",
              "        vertical-align: middle;\n",
              "    }\n",
              "\n",
              "    .dataframe tbody tr th {\n",
              "        vertical-align: top;\n",
              "    }\n",
              "\n",
              "    .dataframe thead th {\n",
              "        text-align: right;\n",
              "    }\n",
              "</style>\n",
              "<table border=\"1\" class=\"dataframe\">\n",
              "  <thead>\n",
              "    <tr style=\"text-align: right;\">\n",
              "      <th></th>\n",
              "      <th>tempo (anos)</th>\n",
              "      <th>departamento_ciencia de dados</th>\n",
              "      <th>departamento_programacao</th>\n",
              "      <th>departamento_web</th>\n",
              "      <th>nivel_pleno</th>\n",
              "      <th>nivel_senior</th>\n",
              "    </tr>\n",
              "  </thead>\n",
              "  <tbody>\n",
              "    <tr>\n",
              "      <th>0</th>\n",
              "      <td>1</td>\n",
              "      <td>0</td>\n",
              "      <td>0</td>\n",
              "      <td>0</td>\n",
              "      <td>0</td>\n",
              "      <td>0</td>\n",
              "    </tr>\n",
              "    <tr>\n",
              "      <th>1</th>\n",
              "      <td>6</td>\n",
              "      <td>0</td>\n",
              "      <td>0</td>\n",
              "      <td>1</td>\n",
              "      <td>0</td>\n",
              "      <td>1</td>\n",
              "    </tr>\n",
              "    <tr>\n",
              "      <th>2</th>\n",
              "      <td>3</td>\n",
              "      <td>1</td>\n",
              "      <td>0</td>\n",
              "      <td>0</td>\n",
              "      <td>1</td>\n",
              "      <td>0</td>\n",
              "    </tr>\n",
              "    <tr>\n",
              "      <th>3</th>\n",
              "      <td>2</td>\n",
              "      <td>0</td>\n",
              "      <td>0</td>\n",
              "      <td>1</td>\n",
              "      <td>0</td>\n",
              "      <td>0</td>\n",
              "    </tr>\n",
              "    <tr>\n",
              "      <th>4</th>\n",
              "      <td>4</td>\n",
              "      <td>0</td>\n",
              "      <td>1</td>\n",
              "      <td>0</td>\n",
              "      <td>1</td>\n",
              "      <td>0</td>\n",
              "    </tr>\n",
              "    <tr>\n",
              "      <th>5</th>\n",
              "      <td>2</td>\n",
              "      <td>0</td>\n",
              "      <td>0</td>\n",
              "      <td>1</td>\n",
              "      <td>1</td>\n",
              "      <td>0</td>\n",
              "    </tr>\n",
              "    <tr>\n",
              "      <th>6</th>\n",
              "      <td>3</td>\n",
              "      <td>0</td>\n",
              "      <td>0</td>\n",
              "      <td>0</td>\n",
              "      <td>1</td>\n",
              "      <td>0</td>\n",
              "    </tr>\n",
              "    <tr>\n",
              "      <th>7</th>\n",
              "      <td>2</td>\n",
              "      <td>1</td>\n",
              "      <td>0</td>\n",
              "      <td>0</td>\n",
              "      <td>1</td>\n",
              "      <td>0</td>\n",
              "    </tr>\n",
              "    <tr>\n",
              "      <th>8</th>\n",
              "      <td>10</td>\n",
              "      <td>0</td>\n",
              "      <td>0</td>\n",
              "      <td>1</td>\n",
              "      <td>0</td>\n",
              "      <td>1</td>\n",
              "    </tr>\n",
              "    <tr>\n",
              "      <th>9</th>\n",
              "      <td>5</td>\n",
              "      <td>0</td>\n",
              "      <td>1</td>\n",
              "      <td>0</td>\n",
              "      <td>1</td>\n",
              "      <td>0</td>\n",
              "    </tr>\n",
              "  </tbody>\n",
              "</table>\n",
              "</div>"
            ],
            "text/plain": [
              "   tempo (anos)  departamento_ciencia de dados  ...  nivel_pleno  nivel_senior\n",
              "0             1                              0  ...            0             0\n",
              "1             6                              0  ...            0             1\n",
              "2             3                              1  ...            1             0\n",
              "3             2                              0  ...            0             0\n",
              "4             4                              0  ...            1             0\n",
              "5             2                              0  ...            1             0\n",
              "6             3                              0  ...            1             0\n",
              "7             2                              1  ...            1             0\n",
              "8            10                              0  ...            0             1\n",
              "9             5                              0  ...            1             0\n",
              "\n",
              "[10 rows x 6 columns]"
            ]
          },
          "metadata": {
            "tags": []
          },
          "execution_count": 8
        }
      ]
    },
    {
      "cell_type": "code",
      "metadata": {
        "colab": {
          "base_uri": "https://localhost:8080/"
        },
        "id": "qcnvvuc6Ijxq",
        "outputId": "48b83b68-6b62-498f-ce9f-cd384833aee9"
      },
      "source": [
        "# Verificação do y, com apenas a última coluna\n",
        "y"
      ],
      "execution_count": 10,
      "outputs": [
        {
          "output_type": "execute_result",
          "data": {
            "text/plain": [
              "0         R\n",
              "1      Rubi\n",
              "2    Python\n",
              "3      Java\n",
              "4      Java\n",
              "5       PHP\n",
              "6    Python\n",
              "7    Python\n",
              "8       PHP\n",
              "9        C#\n",
              "Name: linguagem, dtype: object"
            ]
          },
          "metadata": {
            "tags": []
          },
          "execution_count": 10
        }
      ]
    },
    {
      "cell_type": "markdown",
      "metadata": {
        "id": "8cqxpYNa5U17"
      },
      "source": [
        "# Modelo Árvore de Decisão\n",
        " Uma árvore de decisão é uma estrutura de árvore para representar os possíveis caminhos na tomada de uma decisão. Cada caminho é um possível resultado. Existe uma raiz, ou seja, a variável escolhida pela árvore e em seguida uma hierarquia. A variável X será o modelo de entrada, ou seja, as colunas e os atributos. Já o Y será o modelo de saída, ou seja, é o alvo que que queremos atingir. O alvo nunca poderá entrar no momento da modelagem, pois estaríamos utilizando a resposta para chegar em uma resposta.\n",
        "\n",
        " No modelo de Árvore de Decisão podemos alterar alguns paramêtros, como o critério de avaliação e a profundidade da árvore. No entanto, é necessário tomar cuidado para não gerar uma profundidade muito alta, pois geraria um Overfiting, ou seja, um treinamento muito alto do modelo.\n",
        "\n",
        " Leia mais em: https://minerandodados.com.br/arvores-de-decisao-conceitos-e-aplicacoes/"
      ]
    },
    {
      "cell_type": "code",
      "metadata": {
        "id": "mtWM4i68IkyT"
      },
      "source": [
        "# Importando do sklearn o modelo DecisionTreeClassifier\n",
        "from sklearn.tree import DecisionTreeClassifier"
      ],
      "execution_count": 11,
      "outputs": []
    },
    {
      "cell_type": "code",
      "metadata": {
        "id": "obuwC8i6IqPc"
      },
      "source": [
        "# Atribuição de uma variável à função do DecisionTreeClassifier()\n",
        "modelo_tree = DecisionTreeClassifier()"
      ],
      "execution_count": 12,
      "outputs": []
    },
    {
      "cell_type": "code",
      "metadata": {
        "colab": {
          "base_uri": "https://localhost:8080/"
        },
        "id": "lvFq4ee6I-qm",
        "outputId": "725b2c12-675d-4c9f-f3ba-87ae0053b3a4"
      },
      "source": [
        "# Treinamento do modelo com as variáveis x e y\n",
        "modelo_tree.fit(x, y)"
      ],
      "execution_count": 13,
      "outputs": [
        {
          "output_type": "execute_result",
          "data": {
            "text/plain": [
              "DecisionTreeClassifier(ccp_alpha=0.0, class_weight=None, criterion='gini',\n",
              "                       max_depth=None, max_features=None, max_leaf_nodes=None,\n",
              "                       min_impurity_decrease=0.0, min_impurity_split=None,\n",
              "                       min_samples_leaf=1, min_samples_split=2,\n",
              "                       min_weight_fraction_leaf=0.0, presort='deprecated',\n",
              "                       random_state=None, splitter='best')"
            ]
          },
          "metadata": {
            "tags": []
          },
          "execution_count": 13
        }
      ]
    },
    {
      "cell_type": "code",
      "metadata": {
        "colab": {
          "base_uri": "https://localhost:8080/",
          "height": 80
        },
        "id": "RGheIOpAJC3E",
        "outputId": "dca03ff4-e657-4b93-e299-5b6c75bfacfa"
      },
      "source": [
        "# Criando uma amostra dos dados originais para teste do modelo. Neste caso, foi escolhido a linguagem 'Python\n",
        "amostra = base.sample()\n",
        "amostra"
      ],
      "execution_count": 15,
      "outputs": [
        {
          "output_type": "execute_result",
          "data": {
            "text/html": [
              "<div>\n",
              "<style scoped>\n",
              "    .dataframe tbody tr th:only-of-type {\n",
              "        vertical-align: middle;\n",
              "    }\n",
              "\n",
              "    .dataframe tbody tr th {\n",
              "        vertical-align: top;\n",
              "    }\n",
              "\n",
              "    .dataframe thead th {\n",
              "        text-align: right;\n",
              "    }\n",
              "</style>\n",
              "<table border=\"1\" class=\"dataframe\">\n",
              "  <thead>\n",
              "    <tr style=\"text-align: right;\">\n",
              "      <th></th>\n",
              "      <th>tempo (anos)</th>\n",
              "      <th>departamento_ciencia de dados</th>\n",
              "      <th>departamento_programacao</th>\n",
              "      <th>departamento_web</th>\n",
              "      <th>nivel_pleno</th>\n",
              "      <th>nivel_senior</th>\n",
              "      <th>linguagem</th>\n",
              "    </tr>\n",
              "  </thead>\n",
              "  <tbody>\n",
              "    <tr>\n",
              "      <th>6</th>\n",
              "      <td>3</td>\n",
              "      <td>0</td>\n",
              "      <td>0</td>\n",
              "      <td>0</td>\n",
              "      <td>1</td>\n",
              "      <td>0</td>\n",
              "      <td>Python</td>\n",
              "    </tr>\n",
              "  </tbody>\n",
              "</table>\n",
              "</div>"
            ],
            "text/plain": [
              "   tempo (anos)  departamento_ciencia de dados  ...  nivel_senior  linguagem\n",
              "6             3                              0  ...             0     Python\n",
              "\n",
              "[1 rows x 7 columns]"
            ]
          },
          "metadata": {
            "tags": []
          },
          "execution_count": 15
        }
      ]
    },
    {
      "cell_type": "code",
      "metadata": {
        "colab": {
          "base_uri": "https://localhost:8080/"
        },
        "id": "L4FHTyKgJPtW",
        "outputId": "66650aeb-a86b-4bd3-e3a1-0b7b33f2f63b"
      },
      "source": [
        "# Teste do modelo com a amostra. O modelo acertou.\n",
        "modelo_tree.predict(amostra.iloc[:, :-1])"
      ],
      "execution_count": 17,
      "outputs": [
        {
          "output_type": "execute_result",
          "data": {
            "text/plain": [
              "array(['Python'], dtype=object)"
            ]
          },
          "metadata": {
            "tags": []
          },
          "execution_count": 17
        }
      ]
    },
    {
      "cell_type": "code",
      "metadata": {
        "colab": {
          "base_uri": "https://localhost:8080/"
        },
        "id": "Cod4SXJ-JX_G",
        "outputId": "da756283-dd55-4bd0-c285-c7e932533954"
      },
      "source": [
        "# Teste do modelo com novos dados sendo inseridos. Cada valor corresponde a uma coluna. O funcionário utilizaria PHP.\n",
        "modelo_tree.predict([[2, 0, 0, 1, 1, 0]])"
      ],
      "execution_count": 18,
      "outputs": [
        {
          "output_type": "execute_result",
          "data": {
            "text/plain": [
              "array(['PHP'], dtype=object)"
            ]
          },
          "metadata": {
            "tags": []
          },
          "execution_count": 18
        }
      ]
    },
    {
      "cell_type": "code",
      "metadata": {
        "id": "DJZpW5-ZJge7"
      },
      "source": [
        "# Importação do graphviz para visualizar a Árvore de Decisão\n",
        "from sklearn.tree import export_graphviz"
      ],
      "execution_count": 19,
      "outputs": []
    },
    {
      "cell_type": "code",
      "metadata": {
        "id": "7U-cCBUqJv_r"
      },
      "source": [
        "# Atribuição de uma variável e escolha do nome do arquivo que será aberto\n",
        "arquivo = open(\"arvore.dot\", \"w\")"
      ],
      "execution_count": 20,
      "outputs": []
    },
    {
      "cell_type": "code",
      "metadata": {
        "colab": {
          "base_uri": "https://localhost:8080/"
        },
        "id": "_TEN8vXnJ-x5",
        "outputId": "4a667394-bf96-4020-b7a7-7b416024d23f"
      },
      "source": [
        "# Selecionando apenas os nomes das colunas\n",
        "x.columns"
      ],
      "execution_count": 21,
      "outputs": [
        {
          "output_type": "execute_result",
          "data": {
            "text/plain": [
              "Index(['tempo (anos)', 'departamento_ciencia de dados',\n",
              "       'departamento_programacao', 'departamento_web', 'nivel_pleno',\n",
              "       'nivel_senior'],\n",
              "      dtype='object')"
            ]
          },
          "metadata": {
            "tags": []
          },
          "execution_count": 21
        }
      ]
    },
    {
      "cell_type": "code",
      "metadata": {
        "colab": {
          "base_uri": "https://localhost:8080/"
        },
        "id": "MyetkfQ8KGjT",
        "outputId": "93e7fe68-94f2-4db9-b285-5566d6abf3b7"
      },
      "source": [
        "# Selecionando os valores únicos que há na coluna linguagem\n",
        "base.linguagem.unique()"
      ],
      "execution_count": 22,
      "outputs": [
        {
          "output_type": "execute_result",
          "data": {
            "text/plain": [
              "array(['R', 'Rubi', 'Python', 'Java', 'PHP', 'C#'], dtype=object)"
            ]
          },
          "metadata": {
            "tags": []
          },
          "execution_count": 22
        }
      ]
    },
    {
      "cell_type": "code",
      "metadata": {
        "id": "XyAu4s9mJ0gG"
      },
      "source": [
        "# Criação do gráfico que demonstra a árvore de decisão\n",
        "export_graphviz(modelo_tree, out_file=arquivo, \n",
        "                feature_names=x.columns,\n",
        "                class_names=base.linguagem.unique())"
      ],
      "execution_count": 23,
      "outputs": []
    },
    {
      "cell_type": "code",
      "metadata": {
        "id": "kdAkz3dAKO5r"
      },
      "source": [
        "# Fechamento do arquivo\n",
        "arquivo.close()"
      ],
      "execution_count": 24,
      "outputs": []
    },
    {
      "cell_type": "code",
      "metadata": {
        "id": "9TYvn9-7OPYY"
      },
      "source": [
        "# Importação das bibliotecas sklearn e matplotlib para a visualização da Árvore de Decisão\n",
        "from sklearn import tree\n",
        "import matplotlib.pyplot as plt\n",
        "import numpy as np"
      ],
      "execution_count": 25,
      "outputs": []
    },
    {
      "cell_type": "code",
      "metadata": {
        "colab": {
          "base_uri": "https://localhost:8080/",
          "height": 575
        },
        "id": "9f8jKFgVKQNL",
        "outputId": "edfc8728-5881-49e1-a359-c16a1eda7728"
      },
      "source": [
        "# Criação da figura com as variáveis necessárias\n",
        "fig, ax = plt.subplots(figsize=(15, 10), facecolor='k')\n",
        "tree.plot_tree(modelo_tree, \n",
        "               ax=ax,\n",
        "               fontsize=10,\n",
        "               rounded=True,\n",
        "               filled=True,\n",
        "               feature_names=x.columns,\n",
        "               class_names=base.linguagem.unique())\n",
        "\n",
        "plt.show()"
      ],
      "execution_count": 26,
      "outputs": [
        {
          "output_type": "display_data",
          "data": {
            "image/png": "[encoded data removed]",
            "text/plain": [
              "<Figure size 1080x720 with 1 Axes>"
            ]
          },
          "metadata": {
            "tags": []
          }
        }
      ]
    },
    {
      "cell_type": "markdown",
      "metadata": {
        "id": "9oslZhOX6TZ1"
      },
      "source": [
        "# Resumo\n",
        "Primeiro, importamos as bibliotecas necessárias para a análise e os dados e iniciamos uma visualização e tratamento simples desses dados. Em seguida, importamos a biblioteca de Machine Learning (sklearn) com o modelo DecisionTreeClassifier.\n",
        "\n",
        "Após, foi feito o treinamento do modelo e alguns testes de previsão. O modelo acertou corretamente o teste. \n",
        "\n",
        "Bibliotecas utilziadas nessa análise:\n",
        "\n",
        "pandas: https://pandas.pydata.org/ \n",
        "scikit-learn: https://scikit-learn.org/stable/"
      ]
    },
    {
      "cell_type": "code",
      "metadata": {
        "id": "oEhJ2J4861fh"
      },
      "source": [
        ""
      ],
      "execution_count": null,
      "outputs": []
    }
  ]
}