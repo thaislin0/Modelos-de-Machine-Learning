{
  "nbformat": 4,
  "nbformat_minor": 0,
  "metadata": {
    "colab": {
      "name": "Árvore de Regressão.ipynb",
      "provenance": [],
      "collapsed_sections": [],
      "authorship_tag": "ABX9TyN8CTcgNj/3uYraaKVbs000",
      "include_colab_link": true
    },
    "kernelspec": {
      "name": "python3",
      "display_name": "Python 3"
    },
    "language_info": {
      "name": "python"
    }
  },
  "cells": [
    {
      "cell_type": "markdown",
      "metadata": {
        "id": "view-in-github",
        "colab_type": "text"
      },
      "source": [
        "<a href=\"https://colab.research.google.com/github/thaislin0/Modelos-de-Machine-Learning/blob/main/%C3%81rvore_de_Regress%C3%A3o.ipynb\" target=\"_parent\"><img src=\"https://colab.research.google.com/assets/colab-badge.svg\" alt=\"Open In Colab\"/></a>"
      ]
    },
    {
      "cell_type": "markdown",
      "metadata": {
        "id": "wueO8wsmjLCa"
      },
      "source": [
        "# Modelo Árvore de Decisão\n",
        "Objetivo da análise: dado as variáveis do clima de um dia, por exemplo, se está ensolarado ou nublado ou frio ou quente, prever quantos jogadores irão jogar tênis. Iremos utilizar as bibliotecas pandas e scikit learn. Além disso, o modelo de previsão será a Árvore de Decisão."
      ]
    },
    {
      "cell_type": "code",
      "metadata": {
        "id": "8m3bwIyd4EPo"
      },
      "source": [
        "# Importação da biblioteca pandas com o apelido pd \n",
        "import pandas as pd"
      ],
      "execution_count": 19,
      "outputs": []
    },
    {
      "cell_type": "code",
      "metadata": {
        "id": "FKdQOvoP4KFm"
      },
      "source": [
        "# Criação de uma variável com a função de leitura de excel e o caminho do arquivo\n",
        "base = pd.read_excel('/content/jogadores.xlsx')"
      ],
      "execution_count": 20,
      "outputs": []
    },
    {
      "cell_type": "code",
      "metadata": {
        "colab": {
          "base_uri": "https://localhost:8080/"
        },
        "id": "3RuAKx6T4R5M",
        "outputId": "9b5d1ae0-2e42-44dc-f0cf-56d218317b02"
      },
      "source": [
        "# Verificação de quantas linhas e colunas há na base de dados\n",
        "base.shape"
      ],
      "execution_count": 21,
      "outputs": [
        {
          "output_type": "execute_result",
          "data": {
            "text/plain": [
              "(14, 8)"
            ]
          },
          "metadata": {
            "tags": []
          },
          "execution_count": 21
        }
      ]
    },
    {
      "cell_type": "code",
      "metadata": {
        "colab": {
          "base_uri": "https://localhost:8080/",
          "height": 204
        },
        "id": "fcIn-R-J4VpX",
        "outputId": "4e8f6087-311b-456a-a8e9-352c013396db"
      },
      "source": [
        "# Verificação das cinco primeiras linhas da base. A função head() pode ser utilizada com qualquer número que desejar, sendo que 5 é o padrão\n",
        "base.head()"
      ],
      "execution_count": 22,
      "outputs": [
        {
          "output_type": "execute_result",
          "data": {
            "text/html": [
              "<div>\n",
              "<style scoped>\n",
              "    .dataframe tbody tr th:only-of-type {\n",
              "        vertical-align: middle;\n",
              "    }\n",
              "\n",
              "    .dataframe tbody tr th {\n",
              "        vertical-align: top;\n",
              "    }\n",
              "\n",
              "    .dataframe thead th {\n",
              "        text-align: right;\n",
              "    }\n",
              "</style>\n",
              "<table border=\"1\" class=\"dataframe\">\n",
              "  <thead>\n",
              "    <tr style=\"text-align: right;\">\n",
              "      <th></th>\n",
              "      <th>Unnamed: 0</th>\n",
              "      <th>Aspecto_Nublado</th>\n",
              "      <th>Aspecto_Sol</th>\n",
              "      <th>Temperatura_Frio</th>\n",
              "      <th>Temperatura_Quente</th>\n",
              "      <th>Umidade_Normal</th>\n",
              "      <th>Vento_Sim</th>\n",
              "      <th>Total de jogadores</th>\n",
              "    </tr>\n",
              "  </thead>\n",
              "  <tbody>\n",
              "    <tr>\n",
              "      <th>0</th>\n",
              "      <td>0</td>\n",
              "      <td>0</td>\n",
              "      <td>1</td>\n",
              "      <td>0</td>\n",
              "      <td>1</td>\n",
              "      <td>0</td>\n",
              "      <td>0</td>\n",
              "      <td>25</td>\n",
              "    </tr>\n",
              "    <tr>\n",
              "      <th>1</th>\n",
              "      <td>1</td>\n",
              "      <td>0</td>\n",
              "      <td>1</td>\n",
              "      <td>0</td>\n",
              "      <td>1</td>\n",
              "      <td>0</td>\n",
              "      <td>1</td>\n",
              "      <td>30</td>\n",
              "    </tr>\n",
              "    <tr>\n",
              "      <th>2</th>\n",
              "      <td>2</td>\n",
              "      <td>1</td>\n",
              "      <td>0</td>\n",
              "      <td>0</td>\n",
              "      <td>1</td>\n",
              "      <td>0</td>\n",
              "      <td>0</td>\n",
              "      <td>46</td>\n",
              "    </tr>\n",
              "    <tr>\n",
              "      <th>3</th>\n",
              "      <td>3</td>\n",
              "      <td>0</td>\n",
              "      <td>0</td>\n",
              "      <td>0</td>\n",
              "      <td>0</td>\n",
              "      <td>0</td>\n",
              "      <td>0</td>\n",
              "      <td>45</td>\n",
              "    </tr>\n",
              "    <tr>\n",
              "      <th>4</th>\n",
              "      <td>4</td>\n",
              "      <td>0</td>\n",
              "      <td>0</td>\n",
              "      <td>1</td>\n",
              "      <td>0</td>\n",
              "      <td>1</td>\n",
              "      <td>0</td>\n",
              "      <td>52</td>\n",
              "    </tr>\n",
              "  </tbody>\n",
              "</table>\n",
              "</div>"
            ],
            "text/plain": [
              "   Unnamed: 0  Aspecto_Nublado  ...  Vento_Sim  Total de jogadores\n",
              "0           0                0  ...          0                  25\n",
              "1           1                0  ...          1                  30\n",
              "2           2                1  ...          0                  46\n",
              "3           3                0  ...          0                  45\n",
              "4           4                0  ...          0                  52\n",
              "\n",
              "[5 rows x 8 columns]"
            ]
          },
          "metadata": {
            "tags": []
          },
          "execution_count": 22
        }
      ]
    },
    {
      "cell_type": "code",
      "metadata": {
        "id": "Dn6tg2b74XOg"
      },
      "source": [
        "# Remoção da coluna 'Unnamed: 0' pois apresentava dados desnecessários\n",
        "del base['Unnamed: 0']"
      ],
      "execution_count": 23,
      "outputs": []
    },
    {
      "cell_type": "code",
      "metadata": {
        "id": "02eW4MZt4i4t"
      },
      "source": [
        "# x: seleção de todas as linhas e colunas, menos a última, pois ela é a coluna que nosso modelo irá tentar prever\n",
        "x = base.iloc[:, :-1]"
      ],
      "execution_count": 24,
      "outputs": []
    },
    {
      "cell_type": "code",
      "metadata": {
        "id": "u4J6bsLL4pHm"
      },
      "source": [
        "#y: selecção de todas as linhas, porém apenas a última coluna, pois ela servirá como treinamento para o modelo\n",
        "y = base.iloc[:, -1]"
      ],
      "execution_count": 25,
      "outputs": []
    },
    {
      "cell_type": "code",
      "metadata": {
        "colab": {
          "base_uri": "https://localhost:8080/",
          "height": 483
        },
        "id": "7VSDI4Xp4uLQ",
        "outputId": "66869536-530c-446c-ad70-7a694f606050"
      },
      "source": [
        "# Verificação da variável \"x\"\n",
        "x"
      ],
      "execution_count": 26,
      "outputs": [
        {
          "output_type": "execute_result",
          "data": {
            "text/html": [
              "<div>\n",
              "<style scoped>\n",
              "    .dataframe tbody tr th:only-of-type {\n",
              "        vertical-align: middle;\n",
              "    }\n",
              "\n",
              "    .dataframe tbody tr th {\n",
              "        vertical-align: top;\n",
              "    }\n",
              "\n",
              "    .dataframe thead th {\n",
              "        text-align: right;\n",
              "    }\n",
              "</style>\n",
              "<table border=\"1\" class=\"dataframe\">\n",
              "  <thead>\n",
              "    <tr style=\"text-align: right;\">\n",
              "      <th></th>\n",
              "      <th>Aspecto_Nublado</th>\n",
              "      <th>Aspecto_Sol</th>\n",
              "      <th>Temperatura_Frio</th>\n",
              "      <th>Temperatura_Quente</th>\n",
              "      <th>Umidade_Normal</th>\n",
              "      <th>Vento_Sim</th>\n",
              "    </tr>\n",
              "  </thead>\n",
              "  <tbody>\n",
              "    <tr>\n",
              "      <th>0</th>\n",
              "      <td>0</td>\n",
              "      <td>1</td>\n",
              "      <td>0</td>\n",
              "      <td>1</td>\n",
              "      <td>0</td>\n",
              "      <td>0</td>\n",
              "    </tr>\n",
              "    <tr>\n",
              "      <th>1</th>\n",
              "      <td>0</td>\n",
              "      <td>1</td>\n",
              "      <td>0</td>\n",
              "      <td>1</td>\n",
              "      <td>0</td>\n",
              "      <td>1</td>\n",
              "    </tr>\n",
              "    <tr>\n",
              "      <th>2</th>\n",
              "      <td>1</td>\n",
              "      <td>0</td>\n",
              "      <td>0</td>\n",
              "      <td>1</td>\n",
              "      <td>0</td>\n",
              "      <td>0</td>\n",
              "    </tr>\n",
              "    <tr>\n",
              "      <th>3</th>\n",
              "      <td>0</td>\n",
              "      <td>0</td>\n",
              "      <td>0</td>\n",
              "      <td>0</td>\n",
              "      <td>0</td>\n",
              "      <td>0</td>\n",
              "    </tr>\n",
              "    <tr>\n",
              "      <th>4</th>\n",
              "      <td>0</td>\n",
              "      <td>0</td>\n",
              "      <td>1</td>\n",
              "      <td>0</td>\n",
              "      <td>1</td>\n",
              "      <td>0</td>\n",
              "    </tr>\n",
              "    <tr>\n",
              "      <th>5</th>\n",
              "      <td>0</td>\n",
              "      <td>0</td>\n",
              "      <td>1</td>\n",
              "      <td>0</td>\n",
              "      <td>1</td>\n",
              "      <td>1</td>\n",
              "    </tr>\n",
              "    <tr>\n",
              "      <th>6</th>\n",
              "      <td>1</td>\n",
              "      <td>0</td>\n",
              "      <td>1</td>\n",
              "      <td>0</td>\n",
              "      <td>1</td>\n",
              "      <td>1</td>\n",
              "    </tr>\n",
              "    <tr>\n",
              "      <th>7</th>\n",
              "      <td>0</td>\n",
              "      <td>1</td>\n",
              "      <td>0</td>\n",
              "      <td>0</td>\n",
              "      <td>0</td>\n",
              "      <td>0</td>\n",
              "    </tr>\n",
              "    <tr>\n",
              "      <th>8</th>\n",
              "      <td>0</td>\n",
              "      <td>1</td>\n",
              "      <td>1</td>\n",
              "      <td>0</td>\n",
              "      <td>1</td>\n",
              "      <td>0</td>\n",
              "    </tr>\n",
              "    <tr>\n",
              "      <th>9</th>\n",
              "      <td>0</td>\n",
              "      <td>0</td>\n",
              "      <td>0</td>\n",
              "      <td>0</td>\n",
              "      <td>1</td>\n",
              "      <td>0</td>\n",
              "    </tr>\n",
              "    <tr>\n",
              "      <th>10</th>\n",
              "      <td>0</td>\n",
              "      <td>1</td>\n",
              "      <td>0</td>\n",
              "      <td>0</td>\n",
              "      <td>1</td>\n",
              "      <td>1</td>\n",
              "    </tr>\n",
              "    <tr>\n",
              "      <th>11</th>\n",
              "      <td>1</td>\n",
              "      <td>0</td>\n",
              "      <td>0</td>\n",
              "      <td>0</td>\n",
              "      <td>0</td>\n",
              "      <td>1</td>\n",
              "    </tr>\n",
              "    <tr>\n",
              "      <th>12</th>\n",
              "      <td>1</td>\n",
              "      <td>0</td>\n",
              "      <td>0</td>\n",
              "      <td>1</td>\n",
              "      <td>1</td>\n",
              "      <td>0</td>\n",
              "    </tr>\n",
              "    <tr>\n",
              "      <th>13</th>\n",
              "      <td>0</td>\n",
              "      <td>0</td>\n",
              "      <td>0</td>\n",
              "      <td>0</td>\n",
              "      <td>0</td>\n",
              "      <td>1</td>\n",
              "    </tr>\n",
              "  </tbody>\n",
              "</table>\n",
              "</div>"
            ],
            "text/plain": [
              "    Aspecto_Nublado  Aspecto_Sol  ...  Umidade_Normal  Vento_Sim\n",
              "0                 0            1  ...               0          0\n",
              "1                 0            1  ...               0          1\n",
              "2                 1            0  ...               0          0\n",
              "3                 0            0  ...               0          0\n",
              "4                 0            0  ...               1          0\n",
              "5                 0            0  ...               1          1\n",
              "6                 1            0  ...               1          1\n",
              "7                 0            1  ...               0          0\n",
              "8                 0            1  ...               1          0\n",
              "9                 0            0  ...               1          0\n",
              "10                0            1  ...               1          1\n",
              "11                1            0  ...               0          1\n",
              "12                1            0  ...               1          0\n",
              "13                0            0  ...               0          1\n",
              "\n",
              "[14 rows x 6 columns]"
            ]
          },
          "metadata": {
            "tags": []
          },
          "execution_count": 26
        }
      ]
    },
    {
      "cell_type": "code",
      "metadata": {
        "colab": {
          "base_uri": "https://localhost:8080/"
        },
        "id": "UMnq2Etq4vW9",
        "outputId": "ac61ec74-4551-44dc-b1d1-b0c8fd06d633"
      },
      "source": [
        "# Verificação da variável \"y\"\n",
        "y"
      ],
      "execution_count": 27,
      "outputs": [
        {
          "output_type": "execute_result",
          "data": {
            "text/plain": [
              "0     25\n",
              "1     30\n",
              "2     46\n",
              "3     45\n",
              "4     52\n",
              "5     23\n",
              "6     43\n",
              "7     35\n",
              "8     38\n",
              "9     46\n",
              "10    48\n",
              "11    52\n",
              "12    44\n",
              "13    30\n",
              "Name: Total de jogadores, dtype: int64"
            ]
          },
          "metadata": {
            "tags": []
          },
          "execution_count": 27
        }
      ]
    },
    {
      "cell_type": "markdown",
      "metadata": {
        "id": "iNlPyvs4j_HT"
      },
      "source": [
        "# Modelo Árvore de Regressão\n",
        "As árvores de regressão são usadas quando a variável dependente é contínua. As árvores de classificação são usadas quando a variável dependente é categórica. No caso da árvore de regressão, o valor obtido pelos nós de término nos dados de treinamento é o valor médio das suas observações.\n",
        "\n",
        "Confira mais detalhes em: https://www.vooo.pro/insights/um-tutorial-completo-sobre-a-modelagem-baseada-em-tree-arvore-do-zero-em-r-python/#:~:text=As%20%C3%A1rvores%20de%20regress%C3%A3o%20s%C3%A3o,valor%20m%C3%A9dio%20das%20suas%20observa%C3%A7%C3%B5es."
      ]
    },
    {
      "cell_type": "code",
      "metadata": {
        "id": "-4Sjtg4Q4wYx"
      },
      "source": [
        "# Importando do sklearn o modelo DecisionTreeClassifier e o módulo tree para gerar o gráfico ao final\n",
        "from sklearn.tree import DecisionTreeRegressor\n",
        "from sklearn import tree"
      ],
      "execution_count": 28,
      "outputs": []
    },
    {
      "cell_type": "code",
      "metadata": {
        "id": "r6I7LMT644Km"
      },
      "source": [
        "# Atribuição de uma variável à função do DecisionTreeClassifier()\n",
        "modelo_tree = DecisionTreeRegressor(min_samples_leaf=2)"
      ],
      "execution_count": 29,
      "outputs": []
    },
    {
      "cell_type": "code",
      "metadata": {
        "colab": {
          "base_uri": "https://localhost:8080/"
        },
        "id": "TtBAQrYw46hW",
        "outputId": "4ce4f6c7-1848-45fa-d0f9-9957971a4dfa"
      },
      "source": [
        "# Treinamento do modelo com as variáveis x e y\n",
        "modelo_tree.fit(x, y)"
      ],
      "execution_count": 30,
      "outputs": [
        {
          "output_type": "execute_result",
          "data": {
            "text/plain": [
              "DecisionTreeRegressor(ccp_alpha=0.0, criterion='mse', max_depth=None,\n",
              "                      max_features=None, max_leaf_nodes=None,\n",
              "                      min_impurity_decrease=0.0, min_impurity_split=None,\n",
              "                      min_samples_leaf=2, min_samples_split=2,\n",
              "                      min_weight_fraction_leaf=0.0, presort='deprecated',\n",
              "                      random_state=None, splitter='best')"
            ]
          },
          "metadata": {
            "tags": []
          },
          "execution_count": 30
        }
      ]
    },
    {
      "cell_type": "code",
      "metadata": {
        "id": "J1cvOw-T5In8"
      },
      "source": [
        "# Criando uma amostra dos dados originais para teste do modelo. Neste caso, o total escolhido foi \"25\"\n",
        "amostra = base.sample()"
      ],
      "execution_count": 33,
      "outputs": []
    },
    {
      "cell_type": "code",
      "metadata": {
        "colab": {
          "base_uri": "https://localhost:8080/",
          "height": 80
        },
        "id": "4xdfwLxe5T4D",
        "outputId": "80596080-d3ba-432a-b32f-e25bca9dc16b"
      },
      "source": [
        "amostra"
      ],
      "execution_count": 34,
      "outputs": [
        {
          "output_type": "execute_result",
          "data": {
            "text/html": [
              "<div>\n",
              "<style scoped>\n",
              "    .dataframe tbody tr th:only-of-type {\n",
              "        vertical-align: middle;\n",
              "    }\n",
              "\n",
              "    .dataframe tbody tr th {\n",
              "        vertical-align: top;\n",
              "    }\n",
              "\n",
              "    .dataframe thead th {\n",
              "        text-align: right;\n",
              "    }\n",
              "</style>\n",
              "<table border=\"1\" class=\"dataframe\">\n",
              "  <thead>\n",
              "    <tr style=\"text-align: right;\">\n",
              "      <th></th>\n",
              "      <th>Aspecto_Nublado</th>\n",
              "      <th>Aspecto_Sol</th>\n",
              "      <th>Temperatura_Frio</th>\n",
              "      <th>Temperatura_Quente</th>\n",
              "      <th>Umidade_Normal</th>\n",
              "      <th>Vento_Sim</th>\n",
              "      <th>Total de jogadores</th>\n",
              "    </tr>\n",
              "  </thead>\n",
              "  <tbody>\n",
              "    <tr>\n",
              "      <th>0</th>\n",
              "      <td>0</td>\n",
              "      <td>1</td>\n",
              "      <td>0</td>\n",
              "      <td>1</td>\n",
              "      <td>0</td>\n",
              "      <td>0</td>\n",
              "      <td>25</td>\n",
              "    </tr>\n",
              "  </tbody>\n",
              "</table>\n",
              "</div>"
            ],
            "text/plain": [
              "   Aspecto_Nublado  Aspecto_Sol  ...  Vento_Sim  Total de jogadores\n",
              "0                0            1  ...          0                  25\n",
              "\n",
              "[1 rows x 7 columns]"
            ]
          },
          "metadata": {
            "tags": []
          },
          "execution_count": 34
        }
      ]
    },
    {
      "cell_type": "code",
      "metadata": {
        "colab": {
          "base_uri": "https://localhost:8080/"
        },
        "id": "vpBYfIiZ5UNM",
        "outputId": "fe9a1866-9aa2-4366-ef58-8bbf66b15969"
      },
      "source": [
        "# Teste do modelo com a amostra. O modelo trouxe o número \"27.5\" e a amostra foi de \"25\".\n",
        "modelo_tree.predict(amostra.iloc[:, :-1])"
      ],
      "execution_count": 36,
      "outputs": [
        {
          "output_type": "execute_result",
          "data": {
            "text/plain": [
              "array([27.5])"
            ]
          },
          "metadata": {
            "tags": []
          },
          "execution_count": 36
        }
      ]
    },
    {
      "cell_type": "code",
      "metadata": {
        "colab": {
          "base_uri": "https://localhost:8080/"
        },
        "id": "ldFPpu_G5chZ",
        "outputId": "1f07ce4f-68c5-4133-dc46-29425088ac36"
      },
      "source": [
        "# Teste do modelo com novos dados sendo inseridos. Cada valor corresponde a uma coluna. Existiriam 43.5 jogadores.\n",
        "modelo_tree.predict([[1,0,1,0,1,1]])"
      ],
      "execution_count": 38,
      "outputs": [
        {
          "output_type": "execute_result",
          "data": {
            "text/plain": [
              "array([43.5])"
            ]
          },
          "metadata": {
            "tags": []
          },
          "execution_count": 38
        }
      ]
    },
    {
      "cell_type": "code",
      "metadata": {
        "id": "H8DuhUd05l9W"
      },
      "source": [
        "# Importação das biblioteca matplotlib para a visualização da Árvore de Regressão\n",
        "import matplotlib.pyplot as plt\n"
      ],
      "execution_count": 39,
      "outputs": []
    },
    {
      "cell_type": "code",
      "metadata": {
        "colab": {
          "base_uri": "https://localhost:8080/",
          "height": 575
        },
        "id": "DAmVf8aK517Y",
        "outputId": "2dc6327c-e460-443c-870a-ce4c773a9c72"
      },
      "source": [
        "# Criação da figura com as variáveis necessárias\n",
        "fig, ax = plt.subplots(figsize=(15, 10), facecolor='k')\n",
        "tree.plot_tree(modelo_tree, \n",
        "               ax=ax,\n",
        "               fontsize=10,\n",
        "               rounded=True,\n",
        "               filled=True,\n",
        "               feature_names=x.columns,\n",
        "               class_names=y.unique())\n",
        "\n",
        "plt.show()"
      ],
      "execution_count": 40,
      "outputs": [
        {
          "output_type": "display_data",
          "data": {
            "image/png": "[encoded data removed]",
            "text/plain": [
              "<Figure size 1080x720 with 1 Axes>"
            ]
          },
          "metadata": {
            "tags": []
          }
        }
      ]
    },
    {
      "cell_type": "markdown",
      "metadata": {
        "id": "2MQw0q5KlGnL"
      },
      "source": [
        "# Resumo\n",
        "Primeiro, importamos as bibliotecas necessárias para a análise e os dados e iniciamos uma visualização e tratamento simples desses dados. Em seguida, importamos a biblioteca de Machine Learning (sklearn) com o modelo DecisionTreeRegressor.\n",
        "\n",
        "Após, foi feito o treinamento do modelo e alguns testes de previsão. O modelo acertou corretamente o teste.\n",
        "\n",
        "Bibliotecas utilziadas nessa análise:\n",
        "\n",
        "pandas: https://pandas.pydata.org/ scikit-learn: https://scikit-learn.org/stable/"
      ]
    },
    {
      "cell_type": "code",
      "metadata": {
        "id": "LzVMb2i0lO93"
      },
      "source": [
        ""
      ],
      "execution_count": null,
      "outputs": []
    }
  ]
}