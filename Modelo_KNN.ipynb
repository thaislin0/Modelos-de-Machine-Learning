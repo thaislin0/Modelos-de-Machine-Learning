{
  "nbformat": 4,
  "nbformat_minor": 0,
  "metadata": {
    "colab": {
      "name": "Modelo KNN.ipynb",
      "provenance": [],
      "authorship_tag": "ABX9TyO7hGEikkVvLh2ZvlNEgIx9",
      "include_colab_link": true
    },
    "kernelspec": {
      "name": "python3",
      "display_name": "Python 3"
    },
    "language_info": {
      "name": "python"
    }
  },
  "cells": [
    {
      "cell_type": "markdown",
      "metadata": {
        "id": "view-in-github",
        "colab_type": "text"
      },
      "source": [
        "<a href=\"https://colab.research.google.com/github/thaislin0/Modelos-de-Machine-Learning/blob/main/Modelo_KNN.ipynb\" target=\"_parent\"><img src=\"https://colab.research.google.com/assets/colab-badge.svg\" alt=\"Open In Colab\"/></a>"
      ]
    },
    {
      "cell_type": "markdown",
      "metadata": {
        "id": "Fcym9SAUGqpC"
      },
      "source": [
        "# Modelo KNN aplicado a uma base de funcionários\n",
        "Objetivo da análise: dado uma base de funcionários de uma, com informações sobre: tempo que está na empresa, em qual departamento trabalha, qual o nível e qual linguagem de programação utiliza, o método KNN tentará prever qual a linguagem de programação que um novo funcionário (fora da base) provavelmente programa."
      ]
    },
    {
      "cell_type": "code",
      "metadata": {
        "id": "FXRRu5OFExNj"
      },
      "source": [
        "# Importação da biblioteca \"pandas\"\n",
        "import pandas as pd"
      ],
      "execution_count": 14,
      "outputs": []
    },
    {
      "cell_type": "code",
      "metadata": {
        "id": "-mTOOSvgE0tx"
      },
      "source": [
        "# Criação de uma variável que recebe a função de leitura de excel do pandas com o caminho do arquivo que deve ser lido\n",
        "base = pd.read_excel(\"/content/funcionarios.xlsx\")"
      ],
      "execution_count": 3,
      "outputs": []
    },
    {
      "cell_type": "code",
      "metadata": {
        "colab": {
          "base_uri": "https://localhost:8080/"
        },
        "id": "utJCU60wFFqo",
        "outputId": "df87d8b1-4b8d-449c-9f0f-55bfdbd90c3d"
      },
      "source": [
        "# A função shape retorna quantas linhas e colunas há na base de dados\n",
        "base.shape"
      ],
      "execution_count": 6,
      "outputs": [
        {
          "output_type": "execute_result",
          "data": {
            "text/plain": [
              "(10, 8)"
            ]
          },
          "metadata": {
            "tags": []
          },
          "execution_count": 6
        }
      ]
    },
    {
      "cell_type": "code",
      "metadata": {
        "colab": {
          "base_uri": "https://localhost:8080/",
          "height": 204
        },
        "id": "GQp-CEHdFH0H",
        "outputId": "74ff9828-a581-48d4-97bf-d63a55fa8afd"
      },
      "source": [
        "# A função head() retorna, por padrão, as 5 primeiras rows ('linhas') da base de dados. O valor pode ser alterado com data.head(x)\n",
        "base.head()"
      ],
      "execution_count": 7,
      "outputs": [
        {
          "output_type": "execute_result",
          "data": {
            "text/html": [
              "<div>\n",
              "<style scoped>\n",
              "    .dataframe tbody tr th:only-of-type {\n",
              "        vertical-align: middle;\n",
              "    }\n",
              "\n",
              "    .dataframe tbody tr th {\n",
              "        vertical-align: top;\n",
              "    }\n",
              "\n",
              "    .dataframe thead th {\n",
              "        text-align: right;\n",
              "    }\n",
              "</style>\n",
              "<table border=\"1\" class=\"dataframe\">\n",
              "  <thead>\n",
              "    <tr style=\"text-align: right;\">\n",
              "      <th></th>\n",
              "      <th>Unnamed: 0</th>\n",
              "      <th>tempo (anos)</th>\n",
              "      <th>departamento_ciencia de dados</th>\n",
              "      <th>departamento_programacao</th>\n",
              "      <th>departamento_web</th>\n",
              "      <th>nivel_pleno</th>\n",
              "      <th>nivel_senior</th>\n",
              "      <th>linguagem</th>\n",
              "    </tr>\n",
              "  </thead>\n",
              "  <tbody>\n",
              "    <tr>\n",
              "      <th>0</th>\n",
              "      <td>0</td>\n",
              "      <td>1</td>\n",
              "      <td>0</td>\n",
              "      <td>0</td>\n",
              "      <td>0</td>\n",
              "      <td>0</td>\n",
              "      <td>0</td>\n",
              "      <td>R</td>\n",
              "    </tr>\n",
              "    <tr>\n",
              "      <th>1</th>\n",
              "      <td>1</td>\n",
              "      <td>6</td>\n",
              "      <td>0</td>\n",
              "      <td>0</td>\n",
              "      <td>1</td>\n",
              "      <td>0</td>\n",
              "      <td>1</td>\n",
              "      <td>Rubi</td>\n",
              "    </tr>\n",
              "    <tr>\n",
              "      <th>2</th>\n",
              "      <td>2</td>\n",
              "      <td>3</td>\n",
              "      <td>1</td>\n",
              "      <td>0</td>\n",
              "      <td>0</td>\n",
              "      <td>1</td>\n",
              "      <td>0</td>\n",
              "      <td>Python</td>\n",
              "    </tr>\n",
              "    <tr>\n",
              "      <th>3</th>\n",
              "      <td>3</td>\n",
              "      <td>2</td>\n",
              "      <td>0</td>\n",
              "      <td>0</td>\n",
              "      <td>1</td>\n",
              "      <td>0</td>\n",
              "      <td>0</td>\n",
              "      <td>Java</td>\n",
              "    </tr>\n",
              "    <tr>\n",
              "      <th>4</th>\n",
              "      <td>4</td>\n",
              "      <td>4</td>\n",
              "      <td>0</td>\n",
              "      <td>1</td>\n",
              "      <td>0</td>\n",
              "      <td>1</td>\n",
              "      <td>0</td>\n",
              "      <td>Java</td>\n",
              "    </tr>\n",
              "  </tbody>\n",
              "</table>\n",
              "</div>"
            ],
            "text/plain": [
              "   Unnamed: 0  tempo (anos)  ...  nivel_senior  linguagem\n",
              "0           0             1  ...             0          R\n",
              "1           1             6  ...             1       Rubi\n",
              "2           2             3  ...             0     Python\n",
              "3           3             2  ...             0       Java\n",
              "4           4             4  ...             0       Java\n",
              "\n",
              "[5 rows x 8 columns]"
            ]
          },
          "metadata": {
            "tags": []
          },
          "execution_count": 7
        }
      ]
    },
    {
      "cell_type": "code",
      "metadata": {
        "id": "q-VglxNLFfH5"
      },
      "source": [
        "# Deleção da coluna \"Unnamed: 0\"\n",
        "del base['Unnamed: 0']"
      ],
      "execution_count": 8,
      "outputs": []
    },
    {
      "cell_type": "code",
      "metadata": {
        "colab": {
          "base_uri": "https://localhost:8080/",
          "height": 204
        },
        "id": "TBZHl9s0GE_n",
        "outputId": "09ebff14-04d0-493a-c24b-f9a02deb6143"
      },
      "source": [
        "base.head()"
      ],
      "execution_count": 9,
      "outputs": [
        {
          "output_type": "execute_result",
          "data": {
            "text/html": [
              "<div>\n",
              "<style scoped>\n",
              "    .dataframe tbody tr th:only-of-type {\n",
              "        vertical-align: middle;\n",
              "    }\n",
              "\n",
              "    .dataframe tbody tr th {\n",
              "        vertical-align: top;\n",
              "    }\n",
              "\n",
              "    .dataframe thead th {\n",
              "        text-align: right;\n",
              "    }\n",
              "</style>\n",
              "<table border=\"1\" class=\"dataframe\">\n",
              "  <thead>\n",
              "    <tr style=\"text-align: right;\">\n",
              "      <th></th>\n",
              "      <th>tempo (anos)</th>\n",
              "      <th>departamento_ciencia de dados</th>\n",
              "      <th>departamento_programacao</th>\n",
              "      <th>departamento_web</th>\n",
              "      <th>nivel_pleno</th>\n",
              "      <th>nivel_senior</th>\n",
              "      <th>linguagem</th>\n",
              "    </tr>\n",
              "  </thead>\n",
              "  <tbody>\n",
              "    <tr>\n",
              "      <th>0</th>\n",
              "      <td>1</td>\n",
              "      <td>0</td>\n",
              "      <td>0</td>\n",
              "      <td>0</td>\n",
              "      <td>0</td>\n",
              "      <td>0</td>\n",
              "      <td>R</td>\n",
              "    </tr>\n",
              "    <tr>\n",
              "      <th>1</th>\n",
              "      <td>6</td>\n",
              "      <td>0</td>\n",
              "      <td>0</td>\n",
              "      <td>1</td>\n",
              "      <td>0</td>\n",
              "      <td>1</td>\n",
              "      <td>Rubi</td>\n",
              "    </tr>\n",
              "    <tr>\n",
              "      <th>2</th>\n",
              "      <td>3</td>\n",
              "      <td>1</td>\n",
              "      <td>0</td>\n",
              "      <td>0</td>\n",
              "      <td>1</td>\n",
              "      <td>0</td>\n",
              "      <td>Python</td>\n",
              "    </tr>\n",
              "    <tr>\n",
              "      <th>3</th>\n",
              "      <td>2</td>\n",
              "      <td>0</td>\n",
              "      <td>0</td>\n",
              "      <td>1</td>\n",
              "      <td>0</td>\n",
              "      <td>0</td>\n",
              "      <td>Java</td>\n",
              "    </tr>\n",
              "    <tr>\n",
              "      <th>4</th>\n",
              "      <td>4</td>\n",
              "      <td>0</td>\n",
              "      <td>1</td>\n",
              "      <td>0</td>\n",
              "      <td>1</td>\n",
              "      <td>0</td>\n",
              "      <td>Java</td>\n",
              "    </tr>\n",
              "  </tbody>\n",
              "</table>\n",
              "</div>"
            ],
            "text/plain": [
              "   tempo (anos)  departamento_ciencia de dados  ...  nivel_senior  linguagem\n",
              "0             1                              0  ...             0          R\n",
              "1             6                              0  ...             1       Rubi\n",
              "2             3                              1  ...             0     Python\n",
              "3             2                              0  ...             0       Java\n",
              "4             4                              0  ...             0       Java\n",
              "\n",
              "[5 rows x 7 columns]"
            ]
          },
          "metadata": {
            "tags": []
          },
          "execution_count": 9
        }
      ]
    },
    {
      "cell_type": "markdown",
      "metadata": {
        "id": "xcvOOi9DGbOY"
      },
      "source": [
        "# KNN: modelo de machine learning\n",
        "\"As previsões são feitas para uma nova instância (x) pesquisando todo o conjunto de treinamento para as K instâncias mais semelhantes (os vizinhos) e resumindo a variável de saída para essas instâncias de K. Para a regressão, essa pode ser a variável de saída média; na classificação, esse pode ser o valor de classe do modo (ou mais comum).\"\n",
        "\n",
        "Leia mais em: https://portaldatascience.com/o-algoritmo-k-nearest-neighbors-knn-em-machine-learning/\n",
        "\n",
        "No KNN, o X será o modelo de entrada, ou seja, as colunas e os atributos. Já o Y será o modelo de saída, ou seja, é o alvo que que queremos atingir. O alvo nunca poderá entrar no momento da modelagem, pois estaríamos utilizando a resposta para chegar em uma resposta. \n",
        "\n",
        "Para isso, devemos iniciar a separação entre X e Y. X: entrada e Y: saída."
      ]
    },
    {
      "cell_type": "code",
      "metadata": {
        "colab": {
          "base_uri": "https://localhost:8080/",
          "height": 359
        },
        "id": "08cgLr_kGgMH",
        "outputId": "763905e8-a74f-45f9-d6b7-873b77c67adc"
      },
      "source": [
        "# Definindo X e excluindo a última coluna de nome \"linguagem\", pois ela seria a resposta\n",
        "x = base.iloc[:, :-1]\n",
        "x"
      ],
      "execution_count": 11,
      "outputs": [
        {
          "output_type": "execute_result",
          "data": {
            "text/html": [
              "<div>\n",
              "<style scoped>\n",
              "    .dataframe tbody tr th:only-of-type {\n",
              "        vertical-align: middle;\n",
              "    }\n",
              "\n",
              "    .dataframe tbody tr th {\n",
              "        vertical-align: top;\n",
              "    }\n",
              "\n",
              "    .dataframe thead th {\n",
              "        text-align: right;\n",
              "    }\n",
              "</style>\n",
              "<table border=\"1\" class=\"dataframe\">\n",
              "  <thead>\n",
              "    <tr style=\"text-align: right;\">\n",
              "      <th></th>\n",
              "      <th>tempo (anos)</th>\n",
              "      <th>departamento_ciencia de dados</th>\n",
              "      <th>departamento_programacao</th>\n",
              "      <th>departamento_web</th>\n",
              "      <th>nivel_pleno</th>\n",
              "      <th>nivel_senior</th>\n",
              "    </tr>\n",
              "  </thead>\n",
              "  <tbody>\n",
              "    <tr>\n",
              "      <th>0</th>\n",
              "      <td>1</td>\n",
              "      <td>0</td>\n",
              "      <td>0</td>\n",
              "      <td>0</td>\n",
              "      <td>0</td>\n",
              "      <td>0</td>\n",
              "    </tr>\n",
              "    <tr>\n",
              "      <th>1</th>\n",
              "      <td>6</td>\n",
              "      <td>0</td>\n",
              "      <td>0</td>\n",
              "      <td>1</td>\n",
              "      <td>0</td>\n",
              "      <td>1</td>\n",
              "    </tr>\n",
              "    <tr>\n",
              "      <th>2</th>\n",
              "      <td>3</td>\n",
              "      <td>1</td>\n",
              "      <td>0</td>\n",
              "      <td>0</td>\n",
              "      <td>1</td>\n",
              "      <td>0</td>\n",
              "    </tr>\n",
              "    <tr>\n",
              "      <th>3</th>\n",
              "      <td>2</td>\n",
              "      <td>0</td>\n",
              "      <td>0</td>\n",
              "      <td>1</td>\n",
              "      <td>0</td>\n",
              "      <td>0</td>\n",
              "    </tr>\n",
              "    <tr>\n",
              "      <th>4</th>\n",
              "      <td>4</td>\n",
              "      <td>0</td>\n",
              "      <td>1</td>\n",
              "      <td>0</td>\n",
              "      <td>1</td>\n",
              "      <td>0</td>\n",
              "    </tr>\n",
              "    <tr>\n",
              "      <th>5</th>\n",
              "      <td>2</td>\n",
              "      <td>0</td>\n",
              "      <td>0</td>\n",
              "      <td>1</td>\n",
              "      <td>1</td>\n",
              "      <td>0</td>\n",
              "    </tr>\n",
              "    <tr>\n",
              "      <th>6</th>\n",
              "      <td>3</td>\n",
              "      <td>0</td>\n",
              "      <td>0</td>\n",
              "      <td>0</td>\n",
              "      <td>1</td>\n",
              "      <td>0</td>\n",
              "    </tr>\n",
              "    <tr>\n",
              "      <th>7</th>\n",
              "      <td>2</td>\n",
              "      <td>1</td>\n",
              "      <td>0</td>\n",
              "      <td>0</td>\n",
              "      <td>1</td>\n",
              "      <td>0</td>\n",
              "    </tr>\n",
              "    <tr>\n",
              "      <th>8</th>\n",
              "      <td>10</td>\n",
              "      <td>0</td>\n",
              "      <td>0</td>\n",
              "      <td>1</td>\n",
              "      <td>0</td>\n",
              "      <td>1</td>\n",
              "    </tr>\n",
              "    <tr>\n",
              "      <th>9</th>\n",
              "      <td>5</td>\n",
              "      <td>0</td>\n",
              "      <td>1</td>\n",
              "      <td>0</td>\n",
              "      <td>1</td>\n",
              "      <td>0</td>\n",
              "    </tr>\n",
              "  </tbody>\n",
              "</table>\n",
              "</div>"
            ],
            "text/plain": [
              "   tempo (anos)  departamento_ciencia de dados  ...  nivel_pleno  nivel_senior\n",
              "0             1                              0  ...            0             0\n",
              "1             6                              0  ...            0             1\n",
              "2             3                              1  ...            1             0\n",
              "3             2                              0  ...            0             0\n",
              "4             4                              0  ...            1             0\n",
              "5             2                              0  ...            1             0\n",
              "6             3                              0  ...            1             0\n",
              "7             2                              1  ...            1             0\n",
              "8            10                              0  ...            0             1\n",
              "9             5                              0  ...            1             0\n",
              "\n",
              "[10 rows x 6 columns]"
            ]
          },
          "metadata": {
            "tags": []
          },
          "execution_count": 11
        }
      ]
    },
    {
      "cell_type": "code",
      "metadata": {
        "colab": {
          "base_uri": "https://localhost:8080/"
        },
        "id": "Qx3pMWcLIKf9",
        "outputId": "e4ca5a36-67a5-4a43-ac78-185e71d489e0"
      },
      "source": [
        "# Definindo Y e escolhendo todas as linhas, porém apenas a última coluna\n",
        "y = base.iloc[:, -1]\n",
        "y\n"
      ],
      "execution_count": 13,
      "outputs": [
        {
          "output_type": "execute_result",
          "data": {
            "text/plain": [
              "0         R\n",
              "1      Rubi\n",
              "2    Python\n",
              "3      Java\n",
              "4      Java\n",
              "5       PHP\n",
              "6    Python\n",
              "7    Python\n",
              "8       PHP\n",
              "9        C#\n",
              "Name: linguagem, dtype: object"
            ]
          },
          "metadata": {
            "tags": []
          },
          "execution_count": 13
        }
      ]
    },
    {
      "cell_type": "code",
      "metadata": {
        "id": "YySfEtaSJfVy"
      },
      "source": [
        "# Importação da biblioteca 'sklearn'\n",
        "from sklearn.neighbors import KNeighborsClassifier"
      ],
      "execution_count": 15,
      "outputs": []
    },
    {
      "cell_type": "code",
      "metadata": {
        "id": "Z0KgQCyFIsHZ"
      },
      "source": [
        "# Criação de uma instância, ou seja, um objeto a partir do classificador\n",
        "# Utilização do parâmetro n_neighbors para definir o número de vizinhos\n",
        "knn = KNeighborsClassifier(n_neighbors=3)"
      ],
      "execution_count": 16,
      "outputs": []
    },
    {
      "cell_type": "code",
      "metadata": {
        "colab": {
          "base_uri": "https://localhost:8080/"
        },
        "id": "-rmO_lPBJ1VP",
        "outputId": "6a9d8db0-6f34-4954-e99f-e4c05220c836"
      },
      "source": [
        "# A função fit é a responsável por fazer o treinamento do algoritmo\n",
        "knn.fit(x, y)"
      ],
      "execution_count": 17,
      "outputs": [
        {
          "output_type": "execute_result",
          "data": {
            "text/plain": [
              "KNeighborsClassifier(algorithm='auto', leaf_size=30, metric='minkowski',\n",
              "                     metric_params=None, n_jobs=None, n_neighbors=3, p=2,\n",
              "                     weights='uniform')"
            ]
          },
          "metadata": {
            "tags": []
          },
          "execution_count": 17
        }
      ]
    },
    {
      "cell_type": "code",
      "metadata": {
        "colab": {
          "base_uri": "https://localhost:8080/",
          "height": 80
        },
        "id": "m1CDSe9hKZ9O",
        "outputId": "8ec73d84-5a44-4c9a-9d80-0845ce1d895a"
      },
      "source": [
        "# Criação de uma variável para realizar um teste a partir da base para verificar se o classificador irá acertar; o \"sample\" escolhe aleatoriamente\n",
        "amostra = base.sample()\n",
        "amostra"
      ],
      "execution_count": 18,
      "outputs": [
        {
          "output_type": "execute_result",
          "data": {
            "text/html": [
              "<div>\n",
              "<style scoped>\n",
              "    .dataframe tbody tr th:only-of-type {\n",
              "        vertical-align: middle;\n",
              "    }\n",
              "\n",
              "    .dataframe tbody tr th {\n",
              "        vertical-align: top;\n",
              "    }\n",
              "\n",
              "    .dataframe thead th {\n",
              "        text-align: right;\n",
              "    }\n",
              "</style>\n",
              "<table border=\"1\" class=\"dataframe\">\n",
              "  <thead>\n",
              "    <tr style=\"text-align: right;\">\n",
              "      <th></th>\n",
              "      <th>tempo (anos)</th>\n",
              "      <th>departamento_ciencia de dados</th>\n",
              "      <th>departamento_programacao</th>\n",
              "      <th>departamento_web</th>\n",
              "      <th>nivel_pleno</th>\n",
              "      <th>nivel_senior</th>\n",
              "      <th>linguagem</th>\n",
              "    </tr>\n",
              "  </thead>\n",
              "  <tbody>\n",
              "    <tr>\n",
              "      <th>9</th>\n",
              "      <td>5</td>\n",
              "      <td>0</td>\n",
              "      <td>1</td>\n",
              "      <td>0</td>\n",
              "      <td>1</td>\n",
              "      <td>0</td>\n",
              "      <td>C#</td>\n",
              "    </tr>\n",
              "  </tbody>\n",
              "</table>\n",
              "</div>"
            ],
            "text/plain": [
              "   tempo (anos)  departamento_ciencia de dados  ...  nivel_senior  linguagem\n",
              "9             5                              0  ...             0         C#\n",
              "\n",
              "[1 rows x 7 columns]"
            ]
          },
          "metadata": {
            "tags": []
          },
          "execution_count": 18
        }
      ]
    },
    {
      "cell_type": "code",
      "metadata": {
        "colab": {
          "base_uri": "https://localhost:8080/",
          "height": 80
        },
        "id": "-aTxt2xlKwfj",
        "outputId": "729fe266-f951-48e1-c364-8574f38b82d0"
      },
      "source": [
        "# Aqui, excluímos novamente a última coluna que contém a resposta\n",
        "amostra.iloc[:, :-1]"
      ],
      "execution_count": 21,
      "outputs": [
        {
          "output_type": "execute_result",
          "data": {
            "text/html": [
              "<div>\n",
              "<style scoped>\n",
              "    .dataframe tbody tr th:only-of-type {\n",
              "        vertical-align: middle;\n",
              "    }\n",
              "\n",
              "    .dataframe tbody tr th {\n",
              "        vertical-align: top;\n",
              "    }\n",
              "\n",
              "    .dataframe thead th {\n",
              "        text-align: right;\n",
              "    }\n",
              "</style>\n",
              "<table border=\"1\" class=\"dataframe\">\n",
              "  <thead>\n",
              "    <tr style=\"text-align: right;\">\n",
              "      <th></th>\n",
              "      <th>tempo (anos)</th>\n",
              "      <th>departamento_ciencia de dados</th>\n",
              "      <th>departamento_programacao</th>\n",
              "      <th>departamento_web</th>\n",
              "      <th>nivel_pleno</th>\n",
              "      <th>nivel_senior</th>\n",
              "    </tr>\n",
              "  </thead>\n",
              "  <tbody>\n",
              "    <tr>\n",
              "      <th>9</th>\n",
              "      <td>5</td>\n",
              "      <td>0</td>\n",
              "      <td>1</td>\n",
              "      <td>0</td>\n",
              "      <td>1</td>\n",
              "      <td>0</td>\n",
              "    </tr>\n",
              "  </tbody>\n",
              "</table>\n",
              "</div>"
            ],
            "text/plain": [
              "   tempo (anos)  departamento_ciencia de dados  ...  nivel_pleno  nivel_senior\n",
              "9             5                              0  ...            1             0\n",
              "\n",
              "[1 rows x 6 columns]"
            ]
          },
          "metadata": {
            "tags": []
          },
          "execution_count": 21
        }
      ]
    },
    {
      "cell_type": "code",
      "metadata": {
        "colab": {
          "base_uri": "https://localhost:8080/"
        },
        "id": "QKQ0FvTDKADT",
        "outputId": "dbf9e6b6-672f-496b-8359-2e826453b11d"
      },
      "source": [
        "# A função predict já pode ser utilizada para fazer a previsão. Neste caso, o modelo acertou.\n",
        "knn.predict(amostra.iloc[:, :-1])"
      ],
      "execution_count": 22,
      "outputs": [
        {
          "output_type": "execute_result",
          "data": {
            "text/plain": [
              "array(['C#'], dtype=object)"
            ]
          },
          "metadata": {
            "tags": []
          },
          "execution_count": 22
        }
      ]
    },
    {
      "cell_type": "code",
      "metadata": {
        "colab": {
          "base_uri": "https://localhost:8080/",
          "height": 80
        },
        "id": "Q8S03DKAK9XM",
        "outputId": "7d4076f4-a902-4285-f1d4-762e3fa3ca81"
      },
      "source": [
        "# Criação de uma nova amostra para teste do KNN\n",
        "amostra2 = base.sample()\n",
        "amostra2"
      ],
      "execution_count": 31,
      "outputs": [
        {
          "output_type": "execute_result",
          "data": {
            "text/html": [
              "<div>\n",
              "<style scoped>\n",
              "    .dataframe tbody tr th:only-of-type {\n",
              "        vertical-align: middle;\n",
              "    }\n",
              "\n",
              "    .dataframe tbody tr th {\n",
              "        vertical-align: top;\n",
              "    }\n",
              "\n",
              "    .dataframe thead th {\n",
              "        text-align: right;\n",
              "    }\n",
              "</style>\n",
              "<table border=\"1\" class=\"dataframe\">\n",
              "  <thead>\n",
              "    <tr style=\"text-align: right;\">\n",
              "      <th></th>\n",
              "      <th>tempo (anos)</th>\n",
              "      <th>departamento_ciencia de dados</th>\n",
              "      <th>departamento_programacao</th>\n",
              "      <th>departamento_web</th>\n",
              "      <th>nivel_pleno</th>\n",
              "      <th>nivel_senior</th>\n",
              "      <th>linguagem</th>\n",
              "    </tr>\n",
              "  </thead>\n",
              "  <tbody>\n",
              "    <tr>\n",
              "      <th>2</th>\n",
              "      <td>3</td>\n",
              "      <td>1</td>\n",
              "      <td>0</td>\n",
              "      <td>0</td>\n",
              "      <td>1</td>\n",
              "      <td>0</td>\n",
              "      <td>Python</td>\n",
              "    </tr>\n",
              "  </tbody>\n",
              "</table>\n",
              "</div>"
            ],
            "text/plain": [
              "   tempo (anos)  departamento_ciencia de dados  ...  nivel_senior  linguagem\n",
              "2             3                              1  ...             0     Python\n",
              "\n",
              "[1 rows x 7 columns]"
            ]
          },
          "metadata": {
            "tags": []
          },
          "execution_count": 31
        }
      ]
    },
    {
      "cell_type": "code",
      "metadata": {
        "colab": {
          "base_uri": "https://localhost:8080/",
          "height": 80
        },
        "id": "eUPD4Rt7L8dV",
        "outputId": "3feda81f-f0cd-4b40-c165-4de56a0f1022"
      },
      "source": [
        "# Exclusão da última linha que contém a resposta\n",
        "amostra2.iloc[:, :-1]"
      ],
      "execution_count": 38,
      "outputs": [
        {
          "output_type": "execute_result",
          "data": {
            "text/html": [
              "<div>\n",
              "<style scoped>\n",
              "    .dataframe tbody tr th:only-of-type {\n",
              "        vertical-align: middle;\n",
              "    }\n",
              "\n",
              "    .dataframe tbody tr th {\n",
              "        vertical-align: top;\n",
              "    }\n",
              "\n",
              "    .dataframe thead th {\n",
              "        text-align: right;\n",
              "    }\n",
              "</style>\n",
              "<table border=\"1\" class=\"dataframe\">\n",
              "  <thead>\n",
              "    <tr style=\"text-align: right;\">\n",
              "      <th></th>\n",
              "      <th>tempo (anos)</th>\n",
              "      <th>departamento_ciencia de dados</th>\n",
              "      <th>departamento_programacao</th>\n",
              "      <th>departamento_web</th>\n",
              "      <th>nivel_pleno</th>\n",
              "      <th>nivel_senior</th>\n",
              "    </tr>\n",
              "  </thead>\n",
              "  <tbody>\n",
              "    <tr>\n",
              "      <th>2</th>\n",
              "      <td>3</td>\n",
              "      <td>1</td>\n",
              "      <td>0</td>\n",
              "      <td>0</td>\n",
              "      <td>1</td>\n",
              "      <td>0</td>\n",
              "    </tr>\n",
              "  </tbody>\n",
              "</table>\n",
              "</div>"
            ],
            "text/plain": [
              "   tempo (anos)  departamento_ciencia de dados  ...  nivel_pleno  nivel_senior\n",
              "2             3                              1  ...            1             0\n",
              "\n",
              "[1 rows x 6 columns]"
            ]
          },
          "metadata": {
            "tags": []
          },
          "execution_count": 38
        }
      ]
    },
    {
      "cell_type": "code",
      "metadata": {
        "colab": {
          "base_uri": "https://localhost:8080/"
        },
        "id": "v_xYNRbcL3qA",
        "outputId": "f571b745-4c24-49ea-ec91-e489f6049202"
      },
      "source": [
        "# Utilização do KNN para prever. Acertou novamente!\n",
        "knn.predict(amostra2.iloc[:, :-1])"
      ],
      "execution_count": 39,
      "outputs": [
        {
          "output_type": "execute_result",
          "data": {
            "text/plain": [
              "array(['Python'], dtype=object)"
            ]
          },
          "metadata": {
            "tags": []
          },
          "execution_count": 39
        }
      ]
    },
    {
      "cell_type": "code",
      "metadata": {
        "id": "OYYsPe1DMXOV"
      },
      "source": [
        "# Agora, o modelo está sendo testado com a entrada de novos dados de um possível novo funcionário e o modelo prevê qual o tipo de linguagem que\n",
        "# o mesmo irá programar de acordo com as informações passadas"
      ],
      "execution_count": 40,
      "outputs": []
    },
    {
      "cell_type": "code",
      "metadata": {
        "colab": {
          "base_uri": "https://localhost:8080/"
        },
        "id": "WaEd_TB0MqOq",
        "outputId": "b18c921f-0e28-4f74-c544-181b07a91835"
      },
      "source": [
        "knn.predict([[2, 1, 0, 0, 1, 0]])"
      ],
      "execution_count": 41,
      "outputs": [
        {
          "output_type": "execute_result",
          "data": {
            "text/plain": [
              "array(['Python'], dtype=object)"
            ]
          },
          "metadata": {
            "tags": []
          },
          "execution_count": 41
        }
      ]
    },
    {
      "cell_type": "code",
      "metadata": {
        "id": "55dXq03HMu0O"
      },
      "source": [
        "# No resultado acima, o algoritmo KNN previu que o funcionário com tais entradas usuaria Python como sua linguaguem de programação"
      ],
      "execution_count": 42,
      "outputs": []
    },
    {
      "cell_type": "code",
      "metadata": {
        "id": "P5EopT2nM560"
      },
      "source": [
        ""
      ],
      "execution_count": null,
      "outputs": []
    }
  ]
}