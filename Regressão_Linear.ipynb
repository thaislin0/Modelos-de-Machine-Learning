{
  "nbformat": 4,
  "nbformat_minor": 0,
  "metadata": {
    "colab": {
      "name": "Regressão Linear.ipynb",
      "provenance": [],
      "collapsed_sections": [],
      "authorship_tag": "ABX9TyOLNg3+sGNcwvWSIeJq84+R",
      "include_colab_link": true
    },
    "kernelspec": {
      "name": "python3",
      "display_name": "Python 3"
    },
    "language_info": {
      "name": "python"
    }
  },
  "cells": [
    {
      "cell_type": "markdown",
      "metadata": {
        "id": "view-in-github",
        "colab_type": "text"
      },
      "source": [
        "<a href=\"https://colab.research.google.com/github/thaislin0/Modelos-de-Machine-Learning/blob/main/Regress%C3%A3o_Linear.ipynb\" target=\"_parent\"><img src=\"https://colab.research.google.com/assets/colab-badge.svg\" alt=\"Open In Colab\"/></a>"
      ]
    },
    {
      "cell_type": "markdown",
      "metadata": {
        "id": "8lhLHEtsmdQg"
      },
      "source": [
        "# Regressão Linear\n",
        "Vamos verificar, na prática, como o algoritmo de Regressão Linear consegue resolver problemas do nosso cotidiano.\n",
        "\n",
        "O objetivo é estimar o preço de uma casa dado os metros quadrados. Utilizaremos o pandas e o scikit."
      ]
    },
    {
      "cell_type": "code",
      "metadata": {
        "id": "ZDkfiyAdmUS5"
      },
      "source": [
        "# Importação da biblioteca pandas\n",
        "import pandas as pd"
      ],
      "execution_count": 1,
      "outputs": []
    },
    {
      "cell_type": "code",
      "metadata": {
        "id": "p5I8PdjlnFjT"
      },
      "source": [
        "# Criação de uma variável com a função de leitura de um arquivo excel\n",
        "base = pd.read_excel('/content/casas.xlsx')"
      ],
      "execution_count": 2,
      "outputs": []
    },
    {
      "cell_type": "code",
      "metadata": {
        "id": "nidpbGlRnW_A",
        "colab": {
          "base_uri": "https://localhost:8080/"
        },
        "outputId": "c519522a-824b-421c-c893-9e0c374db328"
      },
      "source": [
        "# Verificação de quantas linhas e colunas há na base de dados\n",
        "base.shape"
      ],
      "execution_count": 3,
      "outputs": [
        {
          "output_type": "execute_result",
          "data": {
            "text/plain": [
              "(21613, 3)"
            ]
          },
          "metadata": {
            "tags": []
          },
          "execution_count": 3
        }
      ]
    },
    {
      "cell_type": "code",
      "metadata": {
        "id": "b45fayUrn1yi",
        "colab": {
          "base_uri": "https://localhost:8080/",
          "height": 204
        },
        "outputId": "b6ded656-ebcd-44c3-97f7-9a7757aadee5"
      },
      "source": [
        "# Verificação das 5 primeiras linhas da base de dados com o uso de head(). O valor pode ser alterado para o desejado, sendo 5 o padrão\n",
        "base.head()"
      ],
      "execution_count": 4,
      "outputs": [
        {
          "output_type": "execute_result",
          "data": {
            "text/html": [
              "<div>\n",
              "<style scoped>\n",
              "    .dataframe tbody tr th:only-of-type {\n",
              "        vertical-align: middle;\n",
              "    }\n",
              "\n",
              "    .dataframe tbody tr th {\n",
              "        vertical-align: top;\n",
              "    }\n",
              "\n",
              "    .dataframe thead th {\n",
              "        text-align: right;\n",
              "    }\n",
              "</style>\n",
              "<table border=\"1\" class=\"dataframe\">\n",
              "  <thead>\n",
              "    <tr style=\"text-align: right;\">\n",
              "      <th></th>\n",
              "      <th>Unnamed: 0</th>\n",
              "      <th>metros quadrados</th>\n",
              "      <th>preco</th>\n",
              "    </tr>\n",
              "  </thead>\n",
              "  <tbody>\n",
              "    <tr>\n",
              "      <th>0</th>\n",
              "      <td>0</td>\n",
              "      <td>1180</td>\n",
              "      <td>221900</td>\n",
              "    </tr>\n",
              "    <tr>\n",
              "      <th>1</th>\n",
              "      <td>1</td>\n",
              "      <td>2570</td>\n",
              "      <td>538000</td>\n",
              "    </tr>\n",
              "    <tr>\n",
              "      <th>2</th>\n",
              "      <td>2</td>\n",
              "      <td>770</td>\n",
              "      <td>180000</td>\n",
              "    </tr>\n",
              "    <tr>\n",
              "      <th>3</th>\n",
              "      <td>3</td>\n",
              "      <td>1960</td>\n",
              "      <td>604000</td>\n",
              "    </tr>\n",
              "    <tr>\n",
              "      <th>4</th>\n",
              "      <td>4</td>\n",
              "      <td>1680</td>\n",
              "      <td>510000</td>\n",
              "    </tr>\n",
              "  </tbody>\n",
              "</table>\n",
              "</div>"
            ],
            "text/plain": [
              "   Unnamed: 0  metros quadrados   preco\n",
              "0           0              1180  221900\n",
              "1           1              2570  538000\n",
              "2           2               770  180000\n",
              "3           3              1960  604000\n",
              "4           4              1680  510000"
            ]
          },
          "metadata": {
            "tags": []
          },
          "execution_count": 4
        }
      ]
    },
    {
      "cell_type": "code",
      "metadata": {
        "id": "lEanrLILoEAK"
      },
      "source": [
        "# Exclusão da coluna \"Unnamed: 0\"\n",
        "del base['Unnamed: 0']"
      ],
      "execution_count": 5,
      "outputs": []
    },
    {
      "cell_type": "code",
      "metadata": {
        "id": "JVa4uzyYoNji",
        "colab": {
          "base_uri": "https://localhost:8080/",
          "height": 204
        },
        "outputId": "6f2ea89d-a34a-44fe-e558-96e95361313b"
      },
      "source": [
        "base.head()"
      ],
      "execution_count": 6,
      "outputs": [
        {
          "output_type": "execute_result",
          "data": {
            "text/html": [
              "<div>\n",
              "<style scoped>\n",
              "    .dataframe tbody tr th:only-of-type {\n",
              "        vertical-align: middle;\n",
              "    }\n",
              "\n",
              "    .dataframe tbody tr th {\n",
              "        vertical-align: top;\n",
              "    }\n",
              "\n",
              "    .dataframe thead th {\n",
              "        text-align: right;\n",
              "    }\n",
              "</style>\n",
              "<table border=\"1\" class=\"dataframe\">\n",
              "  <thead>\n",
              "    <tr style=\"text-align: right;\">\n",
              "      <th></th>\n",
              "      <th>metros quadrados</th>\n",
              "      <th>preco</th>\n",
              "    </tr>\n",
              "  </thead>\n",
              "  <tbody>\n",
              "    <tr>\n",
              "      <th>0</th>\n",
              "      <td>1180</td>\n",
              "      <td>221900</td>\n",
              "    </tr>\n",
              "    <tr>\n",
              "      <th>1</th>\n",
              "      <td>2570</td>\n",
              "      <td>538000</td>\n",
              "    </tr>\n",
              "    <tr>\n",
              "      <th>2</th>\n",
              "      <td>770</td>\n",
              "      <td>180000</td>\n",
              "    </tr>\n",
              "    <tr>\n",
              "      <th>3</th>\n",
              "      <td>1960</td>\n",
              "      <td>604000</td>\n",
              "    </tr>\n",
              "    <tr>\n",
              "      <th>4</th>\n",
              "      <td>1680</td>\n",
              "      <td>510000</td>\n",
              "    </tr>\n",
              "  </tbody>\n",
              "</table>\n",
              "</div>"
            ],
            "text/plain": [
              "   metros quadrados   preco\n",
              "0              1180  221900\n",
              "1              2570  538000\n",
              "2               770  180000\n",
              "3              1960  604000\n",
              "4              1680  510000"
            ]
          },
          "metadata": {
            "tags": []
          },
          "execution_count": 6
        }
      ]
    },
    {
      "cell_type": "code",
      "metadata": {
        "id": "yB7FOD-7oOzh"
      },
      "source": [
        "# Plotação de um gráfico para mostrar a dispersão dos dados. O % e inline significa que o gráfico será mostrado aqui no notebook, e não em um arquivo\n",
        "%matplotlib inline"
      ],
      "execution_count": 7,
      "outputs": []
    },
    {
      "cell_type": "code",
      "metadata": {
        "id": "3tLCMgcKoiCZ",
        "colab": {
          "base_uri": "https://localhost:8080/",
          "height": 307
        },
        "outputId": "ff1b4a1f-227d-409a-dbe6-21b6d10e2519"
      },
      "source": [
        "# Plotação do gráfico de tipo \"dispersado\" com os dados de metros quadrados e preço\n",
        "base.plot(kind='scatter', x=\"metros quadrados\", y=\"preco\")"
      ],
      "execution_count": 8,
      "outputs": [
        {
          "output_type": "execute_result",
          "data": {
            "text/plain": [
              "<matplotlib.axes._subplots.AxesSubplot at 0x7f715bed2750>"
            ]
          },
          "metadata": {
            "tags": []
          },
          "execution_count": 8
        },
        {
          "output_type": "display_data",
          "data": {
            "image/png": "[encoded data removed]",
            "text/plain": [
              "<Figure size 432x288 with 1 Axes>"
            ]
          },
          "metadata": {
            "tags": [],
            "needs_background": "light"
          }
        }
      ]
    },
    {
      "cell_type": "code",
      "metadata": {
        "colab": {
          "base_uri": "https://localhost:8080/",
          "height": 400
        },
        "id": "0MYd8ENdmAi0",
        "outputId": "fbd32763-337f-48eb-8bb4-c496d55f1314"
      },
      "source": [
        "# Plotação do mesmo gráfico acima, porém utilizando a biblioteca Seaborn, com uma linha indicando a regressão\n",
        "import seaborn as sns\n",
        "sns.lmplot(data=base, x = 'metros quadrados', y = 'preco', line_kws={'color': 'red'})"
      ],
      "execution_count": 35,
      "outputs": [
        {
          "output_type": "execute_result",
          "data": {
            "text/plain": [
              "<seaborn.axisgrid.FacetGrid at 0x7f713b05e550>"
            ]
          },
          "metadata": {
            "tags": []
          },
          "execution_count": 35
        },
        {
          "output_type": "display_data",
          "data": {
            "image/png": "[encoded data removed]",
            "text/plain": [
              "<Figure size 360x360 with 1 Axes>"
            ]
          },
          "metadata": {
            "tags": [],
            "needs_background": "light"
          }
        }
      ]
    },
    {
      "cell_type": "code",
      "metadata": {
        "id": "4w8ewvPIox9I"
      },
      "source": [
        "# x: seleção de todas as linhas e colunas, menos a última, pois ela é a coluna que nosso modelo irá tentar prever\n",
        "#y: selecção de todas as linhas, porém apenas a última coluna, pois ela servirá como treinamento para o modelo\n",
        "x = base[[\"metros quadrados\"]]\n",
        "y = base[[\"preco\"]]"
      ],
      "execution_count": 9,
      "outputs": []
    },
    {
      "cell_type": "code",
      "metadata": {
        "id": "1_qHq16jpRCk",
        "colab": {
          "base_uri": "https://localhost:8080/",
          "height": 419
        },
        "outputId": "14bf853a-4154-47dd-c576-c5caa75ac410"
      },
      "source": [
        "# Verificação da variável \"x\"\n",
        "x"
      ],
      "execution_count": 36,
      "outputs": [
        {
          "output_type": "execute_result",
          "data": {
            "text/html": [
              "<div>\n",
              "<style scoped>\n",
              "    .dataframe tbody tr th:only-of-type {\n",
              "        vertical-align: middle;\n",
              "    }\n",
              "\n",
              "    .dataframe tbody tr th {\n",
              "        vertical-align: top;\n",
              "    }\n",
              "\n",
              "    .dataframe thead th {\n",
              "        text-align: right;\n",
              "    }\n",
              "</style>\n",
              "<table border=\"1\" class=\"dataframe\">\n",
              "  <thead>\n",
              "    <tr style=\"text-align: right;\">\n",
              "      <th></th>\n",
              "      <th>metros quadrados</th>\n",
              "    </tr>\n",
              "  </thead>\n",
              "  <tbody>\n",
              "    <tr>\n",
              "      <th>0</th>\n",
              "      <td>1180</td>\n",
              "    </tr>\n",
              "    <tr>\n",
              "      <th>1</th>\n",
              "      <td>2570</td>\n",
              "    </tr>\n",
              "    <tr>\n",
              "      <th>2</th>\n",
              "      <td>770</td>\n",
              "    </tr>\n",
              "    <tr>\n",
              "      <th>3</th>\n",
              "      <td>1960</td>\n",
              "    </tr>\n",
              "    <tr>\n",
              "      <th>4</th>\n",
              "      <td>1680</td>\n",
              "    </tr>\n",
              "    <tr>\n",
              "      <th>...</th>\n",
              "      <td>...</td>\n",
              "    </tr>\n",
              "    <tr>\n",
              "      <th>21608</th>\n",
              "      <td>1530</td>\n",
              "    </tr>\n",
              "    <tr>\n",
              "      <th>21609</th>\n",
              "      <td>2310</td>\n",
              "    </tr>\n",
              "    <tr>\n",
              "      <th>21610</th>\n",
              "      <td>1020</td>\n",
              "    </tr>\n",
              "    <tr>\n",
              "      <th>21611</th>\n",
              "      <td>1600</td>\n",
              "    </tr>\n",
              "    <tr>\n",
              "      <th>21612</th>\n",
              "      <td>1020</td>\n",
              "    </tr>\n",
              "  </tbody>\n",
              "</table>\n",
              "<p>21613 rows × 1 columns</p>\n",
              "</div>"
            ],
            "text/plain": [
              "       metros quadrados\n",
              "0                  1180\n",
              "1                  2570\n",
              "2                   770\n",
              "3                  1960\n",
              "4                  1680\n",
              "...                 ...\n",
              "21608              1530\n",
              "21609              2310\n",
              "21610              1020\n",
              "21611              1600\n",
              "21612              1020\n",
              "\n",
              "[21613 rows x 1 columns]"
            ]
          },
          "metadata": {
            "tags": []
          },
          "execution_count": 36
        }
      ]
    },
    {
      "cell_type": "code",
      "metadata": {
        "id": "lf6yqnuHpRry",
        "colab": {
          "base_uri": "https://localhost:8080/",
          "height": 419
        },
        "outputId": "f52e4dc5-f86f-4a92-d4f7-9fafe082afdc"
      },
      "source": [
        "# Verificação da variável \"y\"\n",
        "y"
      ],
      "execution_count": 37,
      "outputs": [
        {
          "output_type": "execute_result",
          "data": {
            "text/html": [
              "<div>\n",
              "<style scoped>\n",
              "    .dataframe tbody tr th:only-of-type {\n",
              "        vertical-align: middle;\n",
              "    }\n",
              "\n",
              "    .dataframe tbody tr th {\n",
              "        vertical-align: top;\n",
              "    }\n",
              "\n",
              "    .dataframe thead th {\n",
              "        text-align: right;\n",
              "    }\n",
              "</style>\n",
              "<table border=\"1\" class=\"dataframe\">\n",
              "  <thead>\n",
              "    <tr style=\"text-align: right;\">\n",
              "      <th></th>\n",
              "      <th>metros quadrados</th>\n",
              "    </tr>\n",
              "  </thead>\n",
              "  <tbody>\n",
              "    <tr>\n",
              "      <th>0</th>\n",
              "      <td>287555.067025</td>\n",
              "    </tr>\n",
              "    <tr>\n",
              "      <th>1</th>\n",
              "      <td>677621.826402</td>\n",
              "    </tr>\n",
              "    <tr>\n",
              "      <th>2</th>\n",
              "      <td>172499.404187</td>\n",
              "    </tr>\n",
              "    <tr>\n",
              "      <th>3</th>\n",
              "      <td>506441.449985</td>\n",
              "    </tr>\n",
              "    <tr>\n",
              "      <th>4</th>\n",
              "      <td>427866.850973</td>\n",
              "    </tr>\n",
              "    <tr>\n",
              "      <th>...</th>\n",
              "      <td>...</td>\n",
              "    </tr>\n",
              "    <tr>\n",
              "      <th>21608</th>\n",
              "      <td>385773.315789</td>\n",
              "    </tr>\n",
              "    <tr>\n",
              "      <th>21609</th>\n",
              "      <td>604659.698749</td>\n",
              "    </tr>\n",
              "    <tr>\n",
              "      <th>21610</th>\n",
              "      <td>242655.296161</td>\n",
              "    </tr>\n",
              "    <tr>\n",
              "      <th>21611</th>\n",
              "      <td>405416.965541</td>\n",
              "    </tr>\n",
              "    <tr>\n",
              "      <th>21612</th>\n",
              "      <td>242655.296161</td>\n",
              "    </tr>\n",
              "  </tbody>\n",
              "</table>\n",
              "<p>21613 rows × 1 columns</p>\n",
              "</div>"
            ],
            "text/plain": [
              "       metros quadrados\n",
              "0         287555.067025\n",
              "1         677621.826402\n",
              "2         172499.404187\n",
              "3         506441.449985\n",
              "4         427866.850973\n",
              "...                 ...\n",
              "21608     385773.315789\n",
              "21609     604659.698749\n",
              "21610     242655.296161\n",
              "21611     405416.965541\n",
              "21612     242655.296161\n",
              "\n",
              "[21613 rows x 1 columns]"
            ]
          },
          "metadata": {
            "tags": []
          },
          "execution_count": 37
        }
      ]
    },
    {
      "cell_type": "markdown",
      "metadata": {
        "id": "cbeHNqKypT20"
      },
      "source": [
        "# Regressão Linear\n",
        "\n",
        "De acordo com o google: \"A regressão linear quantifica a relação entre uma ou mais variáveis ​​preditoras e uma variável de resultado. Por exemplo, a regressão linear pode ser usada para quantificar os impactos relativos de idade, sexo e dieta (as variáveis ​​preditoras) na altura (a variável de desfecho).\"\n",
        "\n",
        "O modelo de regressão linear é baseado em uma equação de primeiro grau, com a fórmula sendo: y = ax + b. O \"x\" é o coeficiente angular e o \"b\" é o coeficiente linear. \n",
        "\n",
        "Coeficiente angular: indica a inclinação da reta\n",
        "Coeficiente linear: realiza a intersecção com o eixo x\n",
        "\n",
        "A fórmula da regressão linear busca, justamente, encontrar o valor de a e de b. Neste caso, utilizaremos esse modelo para estimar um novo valor baseado nos atributos de entrada. \n",
        "\n",
        "Ajustaremos uma equação linear entre os dados observados, ou seja, encontraremo uma reta que melhor explica a relação entre os dados. \n",
        "\n",
        "Para saber mais sobre a regressão linear visite: https://oestatistico.com.br/regressao-linear-simples/"
      ]
    },
    {
      "cell_type": "code",
      "metadata": {
        "id": "cRQjr8L_pWMi"
      },
      "source": [
        "# Importação da biblioteca sklearn\n",
        "from sklearn.linear_model import LinearRegression"
      ],
      "execution_count": 12,
      "outputs": []
    },
    {
      "cell_type": "code",
      "metadata": {
        "id": "ItbA9MqwpcBP"
      },
      "source": [
        "# Criação de uma instância, ou seja, um objeto a partir do classificador\n",
        "regressao = LinearRegression()"
      ],
      "execution_count": 38,
      "outputs": []
    },
    {
      "cell_type": "code",
      "metadata": {
        "id": "G0VjCdmcpggY",
        "colab": {
          "base_uri": "https://localhost:8080/"
        },
        "outputId": "bc408dad-8752-4ccc-b715-bf00e3b44113"
      },
      "source": [
        "# A função fit é a responsável por fazer o treinamento do algoritmo\n",
        "regressao.fit(x, y)"
      ],
      "execution_count": 39,
      "outputs": [
        {
          "output_type": "execute_result",
          "data": {
            "text/plain": [
              "LinearRegression(copy_X=True, fit_intercept=True, n_jobs=None, normalize=False)"
            ]
          },
          "metadata": {
            "tags": []
          },
          "execution_count": 39
        }
      ]
    },
    {
      "cell_type": "code",
      "metadata": {
        "id": "6SN7YlTapi6v"
      },
      "source": [
        "# Verificação da inclinação/coeficiente angular da reta\n",
        "coef = regressao.coef_"
      ],
      "execution_count": 15,
      "outputs": []
    },
    {
      "cell_type": "code",
      "metadata": {
        "id": "4IQG0XhrpzjR"
      },
      "source": [
        "# Verificação da inclinação/coeficiente linear da reta\n",
        "inter = regressao.intercept_"
      ],
      "execution_count": 16,
      "outputs": []
    },
    {
      "cell_type": "code",
      "metadata": {
        "id": "we1Fmzutp5ME"
      },
      "source": [
        "# Montagem da equação: y = coef * x + inter"
      ],
      "execution_count": 17,
      "outputs": []
    },
    {
      "cell_type": "code",
      "metadata": {
        "id": "mMr8sutkqA65"
      },
      "source": [
        "# Montagem da equação utilizando as variáveis criadas anteriormente\n",
        "y = coef * x + (inter)"
      ],
      "execution_count": 40,
      "outputs": []
    },
    {
      "cell_type": "code",
      "metadata": {
        "id": "ZkSWCyexqMGg",
        "colab": {
          "base_uri": "https://localhost:8080/"
        },
        "outputId": "8d8383b4-662e-4c36-e9bd-5336f3be87e2"
      },
      "source": [
        "# A função predict já pode ser utilizada para fazer a previsão. Neste caso, o modelo utilizou um novo dado.\n",
        "regressao.predict([[1500]])"
      ],
      "execution_count": 41,
      "outputs": [
        {
          "output_type": "execute_result",
          "data": {
            "text/plain": [
              "array([[377354.6087517]])"
            ]
          },
          "metadata": {
            "tags": []
          },
          "execution_count": 41
        }
      ]
    },
    {
      "cell_type": "code",
      "metadata": {
        "id": "3RffxYPvqQ4f",
        "colab": {
          "base_uri": "https://localhost:8080/"
        },
        "outputId": "59891718-5fe6-4964-fbd0-217f62d707c1"
      },
      "source": [
        "# Novamente, a fórmula de regressão linear\n",
        "regressao.coef_[0] * 1500 + regressao.intercept_[0]"
      ],
      "execution_count": 42,
      "outputs": [
        {
          "output_type": "execute_result",
          "data": {
            "text/plain": [
              "array([377354.6087517])"
            ]
          },
          "metadata": {
            "tags": []
          },
          "execution_count": 42
        }
      ]
    },
    {
      "cell_type": "markdown",
      "metadata": {
        "id": "ETXwQbk-op_5"
      },
      "source": [
        "# Resumo\n",
        "Importamos a biblioteca de manipulação de dados e de machine learning: pandas e scikit-learn respectivamente.\n",
        "\n",
        "pandas: https://pandas.pydata.org/ scikit-learn: https://scikit-learn.org/stable/\n",
        "\n",
        "Em seguida, verificamos os dados, tratamos rapidamente eles (excluindo uma coluna desnecessária) e então iniciamos a modelagem.\n",
        "\n",
        "Os dados foram separados em dois: de entrada e de saída. Após a separação, realizamos os testes necessários com a inserção de novos valores de metros quadrados para o modelo prever, de acordo com o seu treinamento, qual seria o custo de uma casa com aqueles dados."
      ]
    },
    {
      "cell_type": "code",
      "metadata": {
        "id": "ke3-3B5uo2Vp"
      },
      "source": [
        ""
      ],
      "execution_count": null,
      "outputs": []
    }
  ]
}